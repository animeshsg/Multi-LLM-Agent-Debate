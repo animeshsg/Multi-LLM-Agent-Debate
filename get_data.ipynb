{
 "cells": [
  {
   "cell_type": "code",
   "execution_count": 2,
   "metadata": {},
   "outputs": [],
   "source": [
    "import pandas as pd\n",
    "from TextFileTransformer import TextFileTransformer"
   ]
  },
  {
   "cell_type": "code",
   "execution_count": 3,
   "metadata": {},
   "outputs": [
    {
     "name": "stdout",
     "output_type": "stream",
     "text": [
      "1. Reading File into Dataframe\n",
      "2. Calculating pairwise Bert Metrics\n",
      "Calculate bert score wrt seed prompt\n",
      "3. Calculating Perplexity Score Metrics\n",
      "4. Calculating aspect based Sentiments Metrics\n",
      "huggingface/tokenizers: The current process just got forked, after parallelism has already been used. Disabling parallelism to avoid deadlocks...\n",
      "To disable this warning, you can either:\n",
      "\t- Avoid using `tokenizers` before the fork if possible\n",
      "\t- Explicitly set the environment variable TOKENIZERS_PARALLELISM=(true | false)\n",
      "   Topic  Count\n",
      "1      0     13\n",
      "0      1      8\n",
      "Data/response0.txt : Processed Successful\n",
      "1. Reading File into Dataframe\n",
      "2. Calculating pairwise Bert Metrics\n",
      "Calculate bert score wrt seed prompt\n",
      "3. Calculating Perplexity Score Metrics\n",
      "4. Calculating aspect based Sentiments Metrics\n",
      "   Topic  Count\n",
      "0      0     12\n",
      "1      1      9\n",
      "Data/response9.txt : Processed Successful\n",
      "1. Reading File into Dataframe\n",
      "2. Calculating pairwise Bert Metrics\n",
      "Calculate bert score wrt seed prompt\n",
      "3. Calculating Perplexity Score Metrics\n",
      "4. Calculating aspect based Sentiments Metrics\n",
      "   Topic  Count\n",
      "0      0     11\n",
      "1      1     10\n",
      "Data/response10.txt : Processed Successful\n",
      "1. Reading File into Dataframe\n",
      "2. Calculating pairwise Bert Metrics\n",
      "Calculate bert score wrt seed prompt\n",
      "3. Calculating Perplexity Score Metrics\n",
      "4. Calculating aspect based Sentiments Metrics\n",
      "   Topic  Count\n",
      "1      0     13\n",
      "0      1      8\n",
      "Data/response11.txt : Processed Successful\n"
     ]
    }
   ],
   "source": [
    "lists=[0,9,10,11]\n",
    "for i in lists:\n",
    "    file_path = 'Data/response'+str(i)+'.txt'  # Replace with the actual file path\n",
    "    try:\n",
    "        text_transformer = TextFileTransformer(file_path)\n",
    "        # Transform the file\n",
    "        df_result = text_transformer.transform(None)\n",
    "        df_result.to_excel(\"Data/Processed\"+str(i)+\".xlsx\")\n",
    "        print(file_path+\" : Processed Successful\")\n",
    "    except Exception as e:\n",
    "        print(e)\n",
    "        print(file_path+\" : Couldnt be processed\")"
   ]
  },
  {
   "cell_type": "code",
   "execution_count": null,
   "metadata": {},
   "outputs": [],
   "source": []
  }
 ],
 "metadata": {
  "kernelspec": {
   "display_name": "Python 3",
   "language": "python",
   "name": "python3"
  },
  "language_info": {
   "codemirror_mode": {
    "name": "ipython",
    "version": 3
   },
   "file_extension": ".py",
   "mimetype": "text/x-python",
   "name": "python",
   "nbconvert_exporter": "python",
   "pygments_lexer": "ipython3",
   "version": "3.11.5"
  }
 },
 "nbformat": 4,
 "nbformat_minor": 2
}
