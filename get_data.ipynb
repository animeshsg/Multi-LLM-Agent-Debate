{
 "cells": [
  {
   "cell_type": "code",
   "execution_count": 3,
   "metadata": {},
   "outputs": [],
   "source": [
    "import pandas as pd\n",
    "from TextFileTransformer import TextFileTransformer"
   ]
  },
  {
   "cell_type": "code",
   "execution_count": 2,
   "metadata": {},
   "outputs": [
    {
     "name": "stdout",
     "output_type": "stream",
     "text": [
      "1. Reading File into Dataframe\n",
      "2. Calculating pairwise Bert Metrics\n",
      "Calculate bert score wrt seed prompt\n",
      "3. Calculating Perplexity Score Metrics\n",
      "4. Calculating aspect based Sentiments Metrics\n",
      "huggingface/tokenizers: The current process just got forked, after parallelism has already been used. Disabling parallelism to avoid deadlocks...\n",
      "To disable this warning, you can either:\n",
      "\t- Avoid using `tokenizers` before the fork if possible\n",
      "\t- Explicitly set the environment variable TOKENIZERS_PARALLELISM=(true | false)\n",
      "Data/response0.txt : Couldnt be processed\n",
      "1. Reading File into Dataframe\n",
      "2. Calculating pairwise Bert Metrics\n",
      "Calculate bert score wrt seed prompt\n",
      "3. Calculating Perplexity Score Metrics\n",
      "4. Calculating aspect based Sentiments Metrics\n"
     ]
    },
    {
     "name": "stderr",
     "output_type": "stream",
     "text": [
      "2023-12-06 21:37:29,556 - BERTopic - WARNING: Using a custom list of topic assignments may lead to errors if topic reduction techniques are used afterwards. Make sure that manually assigning topics is the last step in the pipeline.Note that topic embeddings will also be created through weightedc-TF-IDF embeddings instead of centroid embeddings.\n"
     ]
    },
    {
     "name": "stdout",
     "output_type": "stream",
     "text": [
      "   Topic  Count\n",
      "0      0     11\n",
      "1      1     10\n",
      "Data/response1.txt : Processed Successful\n",
      "1. Reading File into Dataframe\n",
      "2. Calculating pairwise Bert Metrics\n",
      "Calculate bert score wrt seed prompt\n",
      "3. Calculating Perplexity Score Metrics\n",
      "4. Calculating aspect based Sentiments Metrics\n"
     ]
    },
    {
     "name": "stderr",
     "output_type": "stream",
     "text": [
      "2023-12-06 21:40:16,691 - BERTopic - WARNING: Using a custom list of topic assignments may lead to errors if topic reduction techniques are used afterwards. Make sure that manually assigning topics is the last step in the pipeline.Note that topic embeddings will also be created through weightedc-TF-IDF embeddings instead of centroid embeddings.\n"
     ]
    },
    {
     "name": "stdout",
     "output_type": "stream",
     "text": [
      "   Topic  Count\n",
      "0      0     12\n",
      "1      1      9\n",
      "Data/response2.txt : Processed Successful\n",
      "1. Reading File into Dataframe\n",
      "2. Calculating pairwise Bert Metrics\n",
      "Calculate bert score wrt seed prompt\n",
      "3. Calculating Perplexity Score Metrics\n",
      "4. Calculating aspect based Sentiments Metrics\n"
     ]
    },
    {
     "name": "stderr",
     "output_type": "stream",
     "text": [
      "2023-12-06 21:44:52,009 - BERTopic - WARNING: Using a custom list of topic assignments may lead to errors if topic reduction techniques are used afterwards. Make sure that manually assigning topics is the last step in the pipeline.Note that topic embeddings will also be created through weightedc-TF-IDF embeddings instead of centroid embeddings.\n"
     ]
    },
    {
     "name": "stdout",
     "output_type": "stream",
     "text": [
      "   Topic  Count\n",
      "0      0     12\n",
      "1      1      9\n",
      "Data/response3.txt : Processed Successful\n",
      "1. Reading File into Dataframe\n",
      "2. Calculating pairwise Bert Metrics\n",
      "Calculate bert score wrt seed prompt\n",
      "3. Calculating Perplexity Score Metrics\n",
      "4. Calculating aspect based Sentiments Metrics\n"
     ]
    },
    {
     "name": "stderr",
     "output_type": "stream",
     "text": [
      "2023-12-06 21:47:46,893 - BERTopic - WARNING: Using a custom list of topic assignments may lead to errors if topic reduction techniques are used afterwards. Make sure that manually assigning topics is the last step in the pipeline.Note that topic embeddings will also be created through weightedc-TF-IDF embeddings instead of centroid embeddings.\n"
     ]
    },
    {
     "name": "stdout",
     "output_type": "stream",
     "text": [
      "   Topic  Count\n",
      "1      0     13\n",
      "0      1      8\n",
      "Data/response4.txt : Processed Successful\n",
      "1. Reading File into Dataframe\n",
      "2. Calculating pairwise Bert Metrics\n",
      "Calculate bert score wrt seed prompt\n"
     ]
    },
    {
     "name": "stderr",
     "output_type": "stream",
     "text": [
      "'(ReadTimeoutError(\"HTTPSConnectionPool(host='huggingface.co', port=443): Read timed out. (read timeout=10)\"), '(Request ID: 49934779-69a3-4a29-bfb7-6b2cf5317a34)')' thrown while requesting HEAD https://huggingface.co/bert-base-uncased/resolve/main/config.json\n"
     ]
    },
    {
     "name": "stdout",
     "output_type": "stream",
     "text": [
      "3. Calculating Perplexity Score Metrics\n",
      "4. Calculating aspect based Sentiments Metrics\n",
      "Data/response5.txt : Couldnt be processed\n",
      "1. Reading File into Dataframe\n",
      "2. Calculating pairwise Bert Metrics\n",
      "Calculate bert score wrt seed prompt\n",
      "3. Calculating Perplexity Score Metrics\n",
      "4. Calculating aspect based Sentiments Metrics\n"
     ]
    },
    {
     "name": "stderr",
     "output_type": "stream",
     "text": [
      "2023-12-06 21:52:03,404 - BERTopic - WARNING: Using a custom list of topic assignments may lead to errors if topic reduction techniques are used afterwards. Make sure that manually assigning topics is the last step in the pipeline.Note that topic embeddings will also be created through weightedc-TF-IDF embeddings instead of centroid embeddings.\n"
     ]
    },
    {
     "name": "stdout",
     "output_type": "stream",
     "text": [
      "   Topic  Count\n",
      "1      0     14\n",
      "0      1      7\n",
      "Data/response6.txt : Processed Successful\n",
      "1. Reading File into Dataframe\n",
      "2. Calculating pairwise Bert Metrics\n",
      "Calculate bert score wrt seed prompt\n",
      "3. Calculating Perplexity Score Metrics\n",
      "4. Calculating aspect based Sentiments Metrics\n"
     ]
    },
    {
     "name": "stderr",
     "output_type": "stream",
     "text": [
      "2023-12-06 21:54:22,666 - BERTopic - WARNING: Using a custom list of topic assignments may lead to errors if topic reduction techniques are used afterwards. Make sure that manually assigning topics is the last step in the pipeline.Note that topic embeddings will also be created through weightedc-TF-IDF embeddings instead of centroid embeddings.\n"
     ]
    },
    {
     "name": "stdout",
     "output_type": "stream",
     "text": [
      "   Topic  Count\n",
      "0      1     11\n",
      "1      0     10\n",
      "Data/response7.txt : Processed Successful\n",
      "1. Reading File into Dataframe\n",
      "2. Calculating pairwise Bert Metrics\n",
      "Calculate bert score wrt seed prompt\n",
      "3. Calculating Perplexity Score Metrics\n",
      "4. Calculating aspect based Sentiments Metrics\n",
      "Data/response8.txt : Couldnt be processed\n",
      "1. Reading File into Dataframe\n",
      "2. Calculating pairwise Bert Metrics\n",
      "Calculate bert score wrt seed prompt\n",
      "3. Calculating Perplexity Score Metrics\n",
      "4. Calculating aspect based Sentiments Metrics\n",
      "Data/response9.txt : Couldnt be processed\n",
      "1. Reading File into Dataframe\n",
      "2. Calculating pairwise Bert Metrics\n",
      "Calculate bert score wrt seed prompt\n",
      "3. Calculating Perplexity Score Metrics\n",
      "4. Calculating aspect based Sentiments Metrics\n",
      "Data/response10.txt : Couldnt be processed\n",
      "1. Reading File into Dataframe\n",
      "2. Calculating pairwise Bert Metrics\n",
      "Calculate bert score wrt seed prompt\n",
      "3. Calculating Perplexity Score Metrics\n",
      "4. Calculating aspect based Sentiments Metrics\n",
      "Data/response11.txt : Couldnt be processed\n"
     ]
    }
   ],
   "source": [
    "for i in range(0,12):\n",
    "    file_path = 'Data/response'+str(i)+'.txt'  # Replace with the actual file path\n",
    "    try:\n",
    "        text_transformer = TextFileTransformer(file_path)\n",
    "        # Transform the file\n",
    "        df_result = text_transformer.transform(None)\n",
    "        df_result.to_excel(\"Data/Processed\"+str(i)+\".xlsx\")\n",
    "        print(file_path+\" : Processed Successful\")\n",
    "    except Exception as e:\n",
    "        print(file_path+\" : Couldnt be processed\")"
   ]
  },
  {
   "cell_type": "code",
   "execution_count": null,
   "metadata": {},
   "outputs": [],
   "source": []
  }
 ],
 "metadata": {
  "kernelspec": {
   "display_name": "Python 3",
   "language": "python",
   "name": "python3"
  },
  "language_info": {
   "codemirror_mode": {
    "name": "ipython",
    "version": 3
   },
   "file_extension": ".py",
   "mimetype": "text/x-python",
   "name": "python",
   "nbconvert_exporter": "python",
   "pygments_lexer": "ipython3",
   "version": "3.11.5"
  }
 },
 "nbformat": 4,
 "nbformat_minor": 2
}
