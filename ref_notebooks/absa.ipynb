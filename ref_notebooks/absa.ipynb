{
 "cells": [
  {
   "cell_type": "code",
   "execution_count": null,
   "metadata": {},
   "outputs": [],
   "source": [
    "# !pip install --upgrade git+https://github.com/scikit-learn-contrib/hdbscan.git\n",
    "# !pip install --upgrade BERTopic"
   ]
  },
  {
   "cell_type": "code",
   "execution_count": 4,
   "metadata": {},
   "outputs": [],
   "source": [
    "from bertopic import BERTopic\n",
    "import os \n",
    "import sys\n",
    "import numpy as np\n",
    "import pandas as pd\n",
    "import matplotlib.pyplot as plt\n",
    "from sentence_transformers import SentenceTransformer, util\n",
    "from umap import UMAP\n",
    "import torch\n",
    "import torch.nn.functional as F\n",
    "from transformers import AutoTokenizer, AutoModelForSequenceClassification\n",
    "from sklearn.feature_extraction.text import CountVectorizer"
   ]
  },
  {
   "cell_type": "code",
   "execution_count": 8,
   "metadata": {},
   "outputs": [
    {
     "ename": "ImportError",
     "evalue": "attempted relative import with no known parent package",
     "output_type": "error",
     "traceback": [
      "\u001b[0;31m---------------------------------------------------------------------------\u001b[0m",
      "\u001b[0;31mImportError\u001b[0m                               Traceback (most recent call last)",
      "\u001b[1;32m/Users/animeshsengupta/Work_Directory/DACSS/SEM3/CS682/project/ref_notebooks/absa.ipynb Cell 3\u001b[0m line \u001b[0;36m2\n\u001b[1;32m      <a href='vscode-notebook-cell:/Users/animeshsengupta/Work_Directory/DACSS/SEM3/CS682/project/ref_notebooks/absa.ipynb#W2sZmlsZQ%3D%3D?line=0'>1</a>\u001b[0m \u001b[39m#from .FileTransformer import read_and_process_file\u001b[39;00m\n\u001b[0;32m----> <a href='vscode-notebook-cell:/Users/animeshsengupta/Work_Directory/DACSS/SEM3/CS682/project/ref_notebooks/absa.ipynb#W2sZmlsZQ%3D%3D?line=1'>2</a>\u001b[0m \u001b[39mfrom\u001b[39;00m \u001b[39m.\u001b[39;00m\u001b[39mbert_score_eval\u001b[39;00m \u001b[39mimport\u001b[39;00m get_bertscore\n\u001b[1;32m      <a href='vscode-notebook-cell:/Users/animeshsengupta/Work_Directory/DACSS/SEM3/CS682/project/ref_notebooks/absa.ipynb#W2sZmlsZQ%3D%3D?line=2'>3</a>\u001b[0m \u001b[39mfrom\u001b[39;00m \u001b[39mperpexlity_score\u001b[39;00m \u001b[39mimport\u001b[39;00m perplexity_score\n\u001b[1;32m      <a href='vscode-notebook-cell:/Users/animeshsengupta/Work_Directory/DACSS/SEM3/CS682/project/ref_notebooks/absa.ipynb#W2sZmlsZQ%3D%3D?line=3'>4</a>\u001b[0m \u001b[39mfrom\u001b[39;00m \u001b[39m.\u001b[39;00m\u001b[39m.\u001b[39;00m\u001b[39mabsa\u001b[39;00m \u001b[39mimport\u001b[39;00m Absa\n",
      "\u001b[0;31mImportError\u001b[0m: attempted relative import with no known parent package"
     ]
    }
   ],
   "source": [
    "#from .FileTransformer import read_and_process_file\n",
    "from .bert_score_eval import get_bertscore\n",
    "from perpexlity_score import perplexity_score\n",
    "from ..absa import Absa"
   ]
  },
  {
   "cell_type": "code",
   "execution_count": 50,
   "metadata": {},
   "outputs": [],
   "source": []
  },
  {
   "cell_type": "code",
   "execution_count": 51,
   "metadata": {},
   "outputs": [
    {
     "data": {
      "text/html": [
       "<div>\n",
       "<style scoped>\n",
       "    .dataframe tbody tr th:only-of-type {\n",
       "        vertical-align: middle;\n",
       "    }\n",
       "\n",
       "    .dataframe tbody tr th {\n",
       "        vertical-align: top;\n",
       "    }\n",
       "\n",
       "    .dataframe thead th {\n",
       "        text-align: right;\n",
       "    }\n",
       "</style>\n",
       "<table border=\"1\" class=\"dataframe\">\n",
       "  <thead>\n",
       "    <tr style=\"text-align: right;\">\n",
       "      <th></th>\n",
       "      <th>Character</th>\n",
       "      <th>Dialogue</th>\n",
       "    </tr>\n",
       "  </thead>\n",
       "  <tbody>\n",
       "    <tr>\n",
       "      <th>0</th>\n",
       "      <td>Prompt</td>\n",
       "      <td>The free market system, competitive capitalism...</td>\n",
       "    </tr>\n",
       "    <tr>\n",
       "      <th>1</th>\n",
       "      <td>Agent1</td>\n",
       "      <td>The evidence suggests that economic growth and...</td>\n",
       "    </tr>\n",
       "    <tr>\n",
       "      <th>2</th>\n",
       "      <td>Agent2</td>\n",
       "      <td>While I understand the left leaning lawyer's c...</td>\n",
       "    </tr>\n",
       "    <tr>\n",
       "      <th>3</th>\n",
       "      <td>Agent1</td>\n",
       "      <td>As a lawyer representing a left leaning non pr...</td>\n",
       "    </tr>\n",
       "    <tr>\n",
       "      <th>4</th>\n",
       "      <td>Agent2</td>\n",
       "      <td>As a conservative lawyer representing a right ...</td>\n",
       "    </tr>\n",
       "  </tbody>\n",
       "</table>\n",
       "</div>"
      ],
      "text/plain": [
       "  Character                                           Dialogue\n",
       "0    Prompt  The free market system, competitive capitalism...\n",
       "1    Agent1  The evidence suggests that economic growth and...\n",
       "2    Agent2  While I understand the left leaning lawyer's c...\n",
       "3    Agent1  As a lawyer representing a left leaning non pr...\n",
       "4    Agent2  As a conservative lawyer representing a right ..."
      ]
     },
     "execution_count": 51,
     "metadata": {},
     "output_type": "execute_result"
    }
   ],
   "source": [
    "file_path = 'response1.txt'\n",
    "df=read_and_process_file(file_path)\n",
    "df.head(5)"
   ]
  },
  {
   "cell_type": "code",
   "execution_count": 55,
   "metadata": {},
   "outputs": [
    {
     "name": "stderr",
     "output_type": "stream",
     "text": [
      "2023-12-05 01:54:46,860 - BERTopic - WARNING: Using a custom list of topic assignments may lead to errors if topic reduction techniques are used afterwards. Make sure that manually assigning topics is the last step in the pipeline.Note that topic embeddings will also be created through weightedc-TF-IDF embeddings instead of centroid embeddings.\n"
     ]
    },
    {
     "name": "stdout",
     "output_type": "stream",
     "text": [
      "   Topic  Count\n",
      "0      0     13\n",
      "1      1      9\n"
     ]
    }
   ],
   "source": [
    "absa=Absa(df)\n",
    "new_df=absa.get_absa()"
   ]
  },
  {
   "cell_type": "code",
   "execution_count": 57,
   "metadata": {},
   "outputs": [
    {
     "data": {
      "text/html": [
       "<div>\n",
       "<style scoped>\n",
       "    .dataframe tbody tr th:only-of-type {\n",
       "        vertical-align: middle;\n",
       "    }\n",
       "\n",
       "    .dataframe tbody tr th {\n",
       "        vertical-align: top;\n",
       "    }\n",
       "\n",
       "    .dataframe thead th {\n",
       "        text-align: right;\n",
       "    }\n",
       "</style>\n",
       "<table border=\"1\" class=\"dataframe\">\n",
       "  <thead>\n",
       "    <tr style=\"text-align: right;\">\n",
       "      <th></th>\n",
       "      <th>Character</th>\n",
       "      <th>Dialogue</th>\n",
       "      <th>sentiment_scores</th>\n",
       "    </tr>\n",
       "  </thead>\n",
       "  <tbody>\n",
       "    <tr>\n",
       "      <th>0</th>\n",
       "      <td>Prompt</td>\n",
       "      <td>The free market system, competitive capitalism...</td>\n",
       "      <td>{'market': ('Positive', 0.9310367703437805), '...</td>\n",
       "    </tr>\n",
       "    <tr>\n",
       "      <th>1</th>\n",
       "      <td>Agent1</td>\n",
       "      <td>The evidence suggests that economic growth and...</td>\n",
       "      <td>{'market': ('Negative', 0.9032272100448608), '...</td>\n",
       "    </tr>\n",
       "    <tr>\n",
       "      <th>2</th>\n",
       "      <td>Agent2</td>\n",
       "      <td>While I understand the left leaning lawyer's c...</td>\n",
       "      <td>{'market': ('Positive', 0.9724560379981995), '...</td>\n",
       "    </tr>\n",
       "    <tr>\n",
       "      <th>3</th>\n",
       "      <td>Agent1</td>\n",
       "      <td>As a lawyer representing a left leaning non pr...</td>\n",
       "      <td>{'market': ('Negative', 0.7937985062599182), '...</td>\n",
       "    </tr>\n",
       "    <tr>\n",
       "      <th>4</th>\n",
       "      <td>Agent2</td>\n",
       "      <td>As a conservative lawyer representing a right ...</td>\n",
       "      <td>{'market': ('Positive', 0.8667799830436707), '...</td>\n",
       "    </tr>\n",
       "    <tr>\n",
       "      <th>5</th>\n",
       "      <td>Agent1</td>\n",
       "      <td>I strongly disagree with my conservative count...</td>\n",
       "      <td>{'market': ('Positive', 0.6113536953926086), '...</td>\n",
       "    </tr>\n",
       "    <tr>\n",
       "      <th>6</th>\n",
       "      <td>Agent2</td>\n",
       "      <td>I strongly disagree with my liberal counterpar...</td>\n",
       "      <td>{'market': ('Positive', 0.9414671659469604), '...</td>\n",
       "    </tr>\n",
       "    <tr>\n",
       "      <th>7</th>\n",
       "      <td>Agent1</td>\n",
       "      <td>I understand my conservative counterpart's poi...</td>\n",
       "      <td>{'market': ('Negative', 0.4450836777687073), '...</td>\n",
       "    </tr>\n",
       "    <tr>\n",
       "      <th>8</th>\n",
       "      <td>Agent2</td>\n",
       "      <td>I respectfully disagree with my counterpart's ...</td>\n",
       "      <td>{'market': ('Positive', 0.7297154664993286), '...</td>\n",
       "    </tr>\n",
       "    <tr>\n",
       "      <th>9</th>\n",
       "      <td>Agent1</td>\n",
       "      <td>I understand my counterpart's perspective, but...</td>\n",
       "      <td>{'market': ('Positive', 0.5097795724868774), '...</td>\n",
       "    </tr>\n",
       "    <tr>\n",
       "      <th>10</th>\n",
       "      <td>Agent2</td>\n",
       "      <td>I respectfully disagree with my counterpart's ...</td>\n",
       "      <td>{'market': ('Positive', 0.7570387721061707), '...</td>\n",
       "    </tr>\n",
       "    <tr>\n",
       "      <th>11</th>\n",
       "      <td>Agent1</td>\n",
       "      <td>I strongly disagree with my counterpart's argu...</td>\n",
       "      <td>{'market': ('Positive', 0.6831575632095337), '...</td>\n",
       "    </tr>\n",
       "    <tr>\n",
       "      <th>12</th>\n",
       "      <td>Agent2</td>\n",
       "      <td>I respectfully disagree with my colleague's ar...</td>\n",
       "      <td>{'market': ('Positive', 0.7288206219673157), '...</td>\n",
       "    </tr>\n",
       "    <tr>\n",
       "      <th>13</th>\n",
       "      <td>Agent1</td>\n",
       "      <td>I respectfully disagree with my colleague's ar...</td>\n",
       "      <td>{'marketbased': ('Positive', 0.505799770355224...</td>\n",
       "    </tr>\n",
       "    <tr>\n",
       "      <th>14</th>\n",
       "      <td>Agent2</td>\n",
       "      <td>As a conservative lawyer representing a right ...</td>\n",
       "      <td>{'marketbased': ('Positive', 0.712372481822967...</td>\n",
       "    </tr>\n",
       "    <tr>\n",
       "      <th>15</th>\n",
       "      <td>Agent1</td>\n",
       "      <td>As a left leaning lawyer, I strongly disagree ...</td>\n",
       "      <td>{'marketbased': ('Negative', 0.504677891731262...</td>\n",
       "    </tr>\n",
       "    <tr>\n",
       "      <th>16</th>\n",
       "      <td>Agent2</td>\n",
       "      <td>As a conservative lawyer representing a right-...</td>\n",
       "      <td>{'marketbased': ('Positive', 0.785179078578949...</td>\n",
       "    </tr>\n",
       "    <tr>\n",
       "      <th>17</th>\n",
       "      <td>Agent1</td>\n",
       "      <td>I strongly disagree with my colleague's argume...</td>\n",
       "      <td>{'marketbased': ('Negative', 0.701894640922546...</td>\n",
       "    </tr>\n",
       "    <tr>\n",
       "      <th>18</th>\n",
       "      <td>Agent2</td>\n",
       "      <td>While I understand my colleague's perspective,...</td>\n",
       "      <td>{'marketbased': ('Positive', 0.531885445117950...</td>\n",
       "    </tr>\n",
       "    <tr>\n",
       "      <th>19</th>\n",
       "      <td>Agent1</td>\n",
       "      <td>I respectfully disagree with my colleague's ar...</td>\n",
       "      <td>{'marketbased': ('Negative', 0.853052854537963...</td>\n",
       "    </tr>\n",
       "  </tbody>\n",
       "</table>\n",
       "</div>"
      ],
      "text/plain": [
       "   Character                                           Dialogue   \n",
       "0     Prompt  The free market system, competitive capitalism...  \\\n",
       "1     Agent1  The evidence suggests that economic growth and...   \n",
       "2     Agent2  While I understand the left leaning lawyer's c...   \n",
       "3     Agent1  As a lawyer representing a left leaning non pr...   \n",
       "4     Agent2  As a conservative lawyer representing a right ...   \n",
       "5     Agent1  I strongly disagree with my conservative count...   \n",
       "6     Agent2  I strongly disagree with my liberal counterpar...   \n",
       "7     Agent1  I understand my conservative counterpart's poi...   \n",
       "8     Agent2  I respectfully disagree with my counterpart's ...   \n",
       "9     Agent1  I understand my counterpart's perspective, but...   \n",
       "10    Agent2  I respectfully disagree with my counterpart's ...   \n",
       "11    Agent1  I strongly disagree with my counterpart's argu...   \n",
       "12    Agent2  I respectfully disagree with my colleague's ar...   \n",
       "13    Agent1  I respectfully disagree with my colleague's ar...   \n",
       "14    Agent2  As a conservative lawyer representing a right ...   \n",
       "15    Agent1  As a left leaning lawyer, I strongly disagree ...   \n",
       "16    Agent2  As a conservative lawyer representing a right-...   \n",
       "17    Agent1  I strongly disagree with my colleague's argume...   \n",
       "18    Agent2  While I understand my colleague's perspective,...   \n",
       "19    Agent1  I respectfully disagree with my colleague's ar...   \n",
       "\n",
       "                                     sentiment_scores  \n",
       "0   {'market': ('Positive', 0.9310367703437805), '...  \n",
       "1   {'market': ('Negative', 0.9032272100448608), '...  \n",
       "2   {'market': ('Positive', 0.9724560379981995), '...  \n",
       "3   {'market': ('Negative', 0.7937985062599182), '...  \n",
       "4   {'market': ('Positive', 0.8667799830436707), '...  \n",
       "5   {'market': ('Positive', 0.6113536953926086), '...  \n",
       "6   {'market': ('Positive', 0.9414671659469604), '...  \n",
       "7   {'market': ('Negative', 0.4450836777687073), '...  \n",
       "8   {'market': ('Positive', 0.7297154664993286), '...  \n",
       "9   {'market': ('Positive', 0.5097795724868774), '...  \n",
       "10  {'market': ('Positive', 0.7570387721061707), '...  \n",
       "11  {'market': ('Positive', 0.6831575632095337), '...  \n",
       "12  {'market': ('Positive', 0.7288206219673157), '...  \n",
       "13  {'marketbased': ('Positive', 0.505799770355224...  \n",
       "14  {'marketbased': ('Positive', 0.712372481822967...  \n",
       "15  {'marketbased': ('Negative', 0.504677891731262...  \n",
       "16  {'marketbased': ('Positive', 0.785179078578949...  \n",
       "17  {'marketbased': ('Negative', 0.701894640922546...  \n",
       "18  {'marketbased': ('Positive', 0.531885445117950...  \n",
       "19  {'marketbased': ('Negative', 0.853052854537963...  "
      ]
     },
     "execution_count": 57,
     "metadata": {},
     "output_type": "execute_result"
    }
   ],
   "source": [
    "new_df.head(20)"
   ]
  },
  {
   "cell_type": "code",
   "execution_count": 4,
   "metadata": {},
   "outputs": [
    {
     "name": "stdout",
     "output_type": "stream",
     "text": [
      ">>>> \n",
      "The world does not need nuclear weapons. Nuclear weapons are a destructive force that poses an existential threat to humanity. The devastating effects of nuclear weapons are well documented, and their use would result in untold suffering and loss of life. Furthermore, the proliferation of nuclear weapons increases the likelihood of nuclear conflict and undermines international stability.\n",
      "In addition, the development and maintenance of nuclear weapons is a massive drain on resources that could be better spent on addressing pressing global issues such as poverty, inequality, and climate change. The pursuit of nuclear weapons is a misguided and dangerous obsession that serves only to perpetuate a cycle of fear and mistrust among nations.\n",
      "In conclusion, the world cannot afford to continue down the path of nuclear proliferation. It is time for nations to come together and work towards a world free of nuclear weapons.\"\n",
      "Please provide the next point of view.\n",
      "Agent2 ---\n"
     ]
    }
   ],
   "source": [
    "convs=df['Conversation'].to_list()\n",
    "print(convs[1])"
   ]
  },
  {
   "cell_type": "code",
   "execution_count": 5,
   "metadata": {},
   "outputs": [],
   "source": [
    "from sklearn.feature_extraction.text import CountVectorizer\n",
    "\n",
    "vectorizer_model = CountVectorizer(stop_words=\"english\")"
   ]
  },
  {
   "cell_type": "code",
   "execution_count": 6,
   "metadata": {},
   "outputs": [],
   "source": [
    "model_embedding = SentenceTransformer('all-MiniLM-L6-v2')\n",
    "corpus_embeddings = model_embedding.encode(convs)"
   ]
  },
  {
   "cell_type": "code",
   "execution_count": 7,
   "metadata": {},
   "outputs": [],
   "source": [
    "model = BERTopic(\n",
    "    n_gram_range=(1, 2),\n",
    "    vectorizer_model=vectorizer_model,\n",
    "    nr_topics='auto',\n",
    "    min_topic_size=5,\n",
    "    top_n_words=5,\n",
    "    calculate_probabilities=True).fit(convs, corpus_embeddings)"
   ]
  },
  {
   "cell_type": "code",
   "execution_count": 8,
   "metadata": {},
   "outputs": [],
   "source": [
    "topics, probabilities = model.transform(convs, corpus_embeddings)"
   ]
  },
  {
   "cell_type": "code",
   "execution_count": 9,
   "metadata": {},
   "outputs": [
    {
     "data": {
      "text/html": [
       "<div>\n",
       "<style scoped>\n",
       "    .dataframe tbody tr th:only-of-type {\n",
       "        vertical-align: middle;\n",
       "    }\n",
       "\n",
       "    .dataframe tbody tr th {\n",
       "        vertical-align: top;\n",
       "    }\n",
       "\n",
       "    .dataframe thead th {\n",
       "        text-align: right;\n",
       "    }\n",
       "</style>\n",
       "<table border=\"1\" class=\"dataframe\">\n",
       "  <thead>\n",
       "    <tr style=\"text-align: right;\">\n",
       "      <th></th>\n",
       "      <th>Topic</th>\n",
       "      <th>Count</th>\n",
       "    </tr>\n",
       "  </thead>\n",
       "  <tbody>\n",
       "    <tr>\n",
       "      <th>0</th>\n",
       "      <td>-1</td>\n",
       "      <td>31</td>\n",
       "    </tr>\n",
       "    <tr>\n",
       "      <th>1</th>\n",
       "      <td>0</td>\n",
       "      <td>27</td>\n",
       "    </tr>\n",
       "    <tr>\n",
       "      <th>4</th>\n",
       "      <td>1</td>\n",
       "      <td>18</td>\n",
       "    </tr>\n",
       "    <tr>\n",
       "      <th>2</th>\n",
       "      <td>2</td>\n",
       "      <td>17</td>\n",
       "    </tr>\n",
       "    <tr>\n",
       "      <th>3</th>\n",
       "      <td>3</td>\n",
       "      <td>8</td>\n",
       "    </tr>\n",
       "  </tbody>\n",
       "</table>\n",
       "</div>"
      ],
      "text/plain": [
       "   Topic  Count\n",
       "0     -1     31\n",
       "1      0     27\n",
       "4      1     18\n",
       "2      2     17\n",
       "3      3      8"
      ]
     },
     "execution_count": 9,
     "metadata": {},
     "output_type": "execute_result"
    }
   ],
   "source": [
    "df_topic_freq = model.get_topic_freq()\n",
    "topics_count = len(df_topic_freq) - 1\n",
    "df_topic_freq"
   ]
  },
  {
   "cell_type": "code",
   "execution_count": 10,
   "metadata": {},
   "outputs": [
    {
     "data": {
      "application/vnd.plotly.v1+json": {
       "config": {
        "plotlyServerURL": "https://plot.ly"
       },
       "data": [
        {
         "marker": {
          "color": "#D55E00"
         },
         "orientation": "h",
         "type": "bar",
         "x": [
          0.052549338076060825,
          0.053692937625127654,
          0.0663135150252598,
          0.09419278303501291,
          0.10121780972856037
         ],
         "xaxis": "x",
         "y": [
          "stability  ",
          "nations  ",
          "existence  ",
          "nuclear  ",
          "weapons  "
         ],
         "yaxis": "y"
        },
        {
         "marker": {
          "color": "#0072B2"
         },
         "orientation": "h",
         "type": "bar",
         "x": [
          0.04630065551233426,
          0.05018222642285429,
          0.05188801967408122,
          0.08678323294787031,
          0.09960034763194961
         ],
         "xaxis": "x2",
         "y": [
          "nations  ",
          "global  ",
          "security  ",
          "weapons  ",
          "nuclear  "
         ],
         "yaxis": "y2"
        },
        {
         "marker": {
          "color": "#CC79A7"
         },
         "orientation": "h",
         "type": "bar",
         "x": [
          0.04126482724543516,
          0.047703702041525575,
          0.04808109689903472,
          0.07379485173783719,
          0.07765785307603158
         ],
         "xaxis": "x3",
         "y": [
          "world  ",
          "aggression  ",
          "security  ",
          "deterrence  ",
          "nuclear  "
         ],
         "yaxis": "y3"
        },
        {
         "marker": {
          "color": "#E69F00"
         },
         "orientation": "h",
         "type": "bar",
         "x": [
          0.07498568572467464,
          0.07702076454320564,
          0.08390503960020261,
          0.08621900826516134,
          0.09774003389105612
         ],
         "xaxis": "x4",
         "y": [
          "weapons  ",
          "actors  ",
          "economic  ",
          "nonstate  ",
          "nuclear  "
         ],
         "yaxis": "y4"
        }
       ],
       "layout": {
        "annotations": [
         {
          "font": {
           "size": 16
          },
          "showarrow": false,
          "text": "Topic 0",
          "x": 0.0875,
          "xanchor": "center",
          "xref": "paper",
          "y": 1,
          "yanchor": "bottom",
          "yref": "paper"
         },
         {
          "font": {
           "size": 16
          },
          "showarrow": false,
          "text": "Topic 1",
          "x": 0.36250000000000004,
          "xanchor": "center",
          "xref": "paper",
          "y": 1,
          "yanchor": "bottom",
          "yref": "paper"
         },
         {
          "font": {
           "size": 16
          },
          "showarrow": false,
          "text": "Topic 2",
          "x": 0.6375000000000001,
          "xanchor": "center",
          "xref": "paper",
          "y": 1,
          "yanchor": "bottom",
          "yref": "paper"
         },
         {
          "font": {
           "size": 16
          },
          "showarrow": false,
          "text": "Topic 3",
          "x": 0.9125,
          "xanchor": "center",
          "xref": "paper",
          "y": 1,
          "yanchor": "bottom",
          "yref": "paper"
         }
        ],
        "height": 325,
        "hoverlabel": {
         "bgcolor": "white",
         "font": {
          "family": "Rockwell",
          "size": 16
         }
        },
        "showlegend": false,
        "template": {
         "data": {
          "bar": [
           {
            "error_x": {
             "color": "#2a3f5f"
            },
            "error_y": {
             "color": "#2a3f5f"
            },
            "marker": {
             "line": {
              "color": "white",
              "width": 0.5
             },
             "pattern": {
              "fillmode": "overlay",
              "size": 10,
              "solidity": 0.2
             }
            },
            "type": "bar"
           }
          ],
          "barpolar": [
           {
            "marker": {
             "line": {
              "color": "white",
              "width": 0.5
             },
             "pattern": {
              "fillmode": "overlay",
              "size": 10,
              "solidity": 0.2
             }
            },
            "type": "barpolar"
           }
          ],
          "carpet": [
           {
            "aaxis": {
             "endlinecolor": "#2a3f5f",
             "gridcolor": "#C8D4E3",
             "linecolor": "#C8D4E3",
             "minorgridcolor": "#C8D4E3",
             "startlinecolor": "#2a3f5f"
            },
            "baxis": {
             "endlinecolor": "#2a3f5f",
             "gridcolor": "#C8D4E3",
             "linecolor": "#C8D4E3",
             "minorgridcolor": "#C8D4E3",
             "startlinecolor": "#2a3f5f"
            },
            "type": "carpet"
           }
          ],
          "choropleth": [
           {
            "colorbar": {
             "outlinewidth": 0,
             "ticks": ""
            },
            "type": "choropleth"
           }
          ],
          "contour": [
           {
            "colorbar": {
             "outlinewidth": 0,
             "ticks": ""
            },
            "colorscale": [
             [
              0,
              "#0d0887"
             ],
             [
              0.1111111111111111,
              "#46039f"
             ],
             [
              0.2222222222222222,
              "#7201a8"
             ],
             [
              0.3333333333333333,
              "#9c179e"
             ],
             [
              0.4444444444444444,
              "#bd3786"
             ],
             [
              0.5555555555555556,
              "#d8576b"
             ],
             [
              0.6666666666666666,
              "#ed7953"
             ],
             [
              0.7777777777777778,
              "#fb9f3a"
             ],
             [
              0.8888888888888888,
              "#fdca26"
             ],
             [
              1,
              "#f0f921"
             ]
            ],
            "type": "contour"
           }
          ],
          "contourcarpet": [
           {
            "colorbar": {
             "outlinewidth": 0,
             "ticks": ""
            },
            "type": "contourcarpet"
           }
          ],
          "heatmap": [
           {
            "colorbar": {
             "outlinewidth": 0,
             "ticks": ""
            },
            "colorscale": [
             [
              0,
              "#0d0887"
             ],
             [
              0.1111111111111111,
              "#46039f"
             ],
             [
              0.2222222222222222,
              "#7201a8"
             ],
             [
              0.3333333333333333,
              "#9c179e"
             ],
             [
              0.4444444444444444,
              "#bd3786"
             ],
             [
              0.5555555555555556,
              "#d8576b"
             ],
             [
              0.6666666666666666,
              "#ed7953"
             ],
             [
              0.7777777777777778,
              "#fb9f3a"
             ],
             [
              0.8888888888888888,
              "#fdca26"
             ],
             [
              1,
              "#f0f921"
             ]
            ],
            "type": "heatmap"
           }
          ],
          "heatmapgl": [
           {
            "colorbar": {
             "outlinewidth": 0,
             "ticks": ""
            },
            "colorscale": [
             [
              0,
              "#0d0887"
             ],
             [
              0.1111111111111111,
              "#46039f"
             ],
             [
              0.2222222222222222,
              "#7201a8"
             ],
             [
              0.3333333333333333,
              "#9c179e"
             ],
             [
              0.4444444444444444,
              "#bd3786"
             ],
             [
              0.5555555555555556,
              "#d8576b"
             ],
             [
              0.6666666666666666,
              "#ed7953"
             ],
             [
              0.7777777777777778,
              "#fb9f3a"
             ],
             [
              0.8888888888888888,
              "#fdca26"
             ],
             [
              1,
              "#f0f921"
             ]
            ],
            "type": "heatmapgl"
           }
          ],
          "histogram": [
           {
            "marker": {
             "pattern": {
              "fillmode": "overlay",
              "size": 10,
              "solidity": 0.2
             }
            },
            "type": "histogram"
           }
          ],
          "histogram2d": [
           {
            "colorbar": {
             "outlinewidth": 0,
             "ticks": ""
            },
            "colorscale": [
             [
              0,
              "#0d0887"
             ],
             [
              0.1111111111111111,
              "#46039f"
             ],
             [
              0.2222222222222222,
              "#7201a8"
             ],
             [
              0.3333333333333333,
              "#9c179e"
             ],
             [
              0.4444444444444444,
              "#bd3786"
             ],
             [
              0.5555555555555556,
              "#d8576b"
             ],
             [
              0.6666666666666666,
              "#ed7953"
             ],
             [
              0.7777777777777778,
              "#fb9f3a"
             ],
             [
              0.8888888888888888,
              "#fdca26"
             ],
             [
              1,
              "#f0f921"
             ]
            ],
            "type": "histogram2d"
           }
          ],
          "histogram2dcontour": [
           {
            "colorbar": {
             "outlinewidth": 0,
             "ticks": ""
            },
            "colorscale": [
             [
              0,
              "#0d0887"
             ],
             [
              0.1111111111111111,
              "#46039f"
             ],
             [
              0.2222222222222222,
              "#7201a8"
             ],
             [
              0.3333333333333333,
              "#9c179e"
             ],
             [
              0.4444444444444444,
              "#bd3786"
             ],
             [
              0.5555555555555556,
              "#d8576b"
             ],
             [
              0.6666666666666666,
              "#ed7953"
             ],
             [
              0.7777777777777778,
              "#fb9f3a"
             ],
             [
              0.8888888888888888,
              "#fdca26"
             ],
             [
              1,
              "#f0f921"
             ]
            ],
            "type": "histogram2dcontour"
           }
          ],
          "mesh3d": [
           {
            "colorbar": {
             "outlinewidth": 0,
             "ticks": ""
            },
            "type": "mesh3d"
           }
          ],
          "parcoords": [
           {
            "line": {
             "colorbar": {
              "outlinewidth": 0,
              "ticks": ""
             }
            },
            "type": "parcoords"
           }
          ],
          "pie": [
           {
            "automargin": true,
            "type": "pie"
           }
          ],
          "scatter": [
           {
            "fillpattern": {
             "fillmode": "overlay",
             "size": 10,
             "solidity": 0.2
            },
            "type": "scatter"
           }
          ],
          "scatter3d": [
           {
            "line": {
             "colorbar": {
              "outlinewidth": 0,
              "ticks": ""
             }
            },
            "marker": {
             "colorbar": {
              "outlinewidth": 0,
              "ticks": ""
             }
            },
            "type": "scatter3d"
           }
          ],
          "scattercarpet": [
           {
            "marker": {
             "colorbar": {
              "outlinewidth": 0,
              "ticks": ""
             }
            },
            "type": "scattercarpet"
           }
          ],
          "scattergeo": [
           {
            "marker": {
             "colorbar": {
              "outlinewidth": 0,
              "ticks": ""
             }
            },
            "type": "scattergeo"
           }
          ],
          "scattergl": [
           {
            "marker": {
             "colorbar": {
              "outlinewidth": 0,
              "ticks": ""
             }
            },
            "type": "scattergl"
           }
          ],
          "scattermapbox": [
           {
            "marker": {
             "colorbar": {
              "outlinewidth": 0,
              "ticks": ""
             }
            },
            "type": "scattermapbox"
           }
          ],
          "scatterpolar": [
           {
            "marker": {
             "colorbar": {
              "outlinewidth": 0,
              "ticks": ""
             }
            },
            "type": "scatterpolar"
           }
          ],
          "scatterpolargl": [
           {
            "marker": {
             "colorbar": {
              "outlinewidth": 0,
              "ticks": ""
             }
            },
            "type": "scatterpolargl"
           }
          ],
          "scatterternary": [
           {
            "marker": {
             "colorbar": {
              "outlinewidth": 0,
              "ticks": ""
             }
            },
            "type": "scatterternary"
           }
          ],
          "surface": [
           {
            "colorbar": {
             "outlinewidth": 0,
             "ticks": ""
            },
            "colorscale": [
             [
              0,
              "#0d0887"
             ],
             [
              0.1111111111111111,
              "#46039f"
             ],
             [
              0.2222222222222222,
              "#7201a8"
             ],
             [
              0.3333333333333333,
              "#9c179e"
             ],
             [
              0.4444444444444444,
              "#bd3786"
             ],
             [
              0.5555555555555556,
              "#d8576b"
             ],
             [
              0.6666666666666666,
              "#ed7953"
             ],
             [
              0.7777777777777778,
              "#fb9f3a"
             ],
             [
              0.8888888888888888,
              "#fdca26"
             ],
             [
              1,
              "#f0f921"
             ]
            ],
            "type": "surface"
           }
          ],
          "table": [
           {
            "cells": {
             "fill": {
              "color": "#EBF0F8"
             },
             "line": {
              "color": "white"
             }
            },
            "header": {
             "fill": {
              "color": "#C8D4E3"
             },
             "line": {
              "color": "white"
             }
            },
            "type": "table"
           }
          ]
         },
         "layout": {
          "annotationdefaults": {
           "arrowcolor": "#2a3f5f",
           "arrowhead": 0,
           "arrowwidth": 1
          },
          "autotypenumbers": "strict",
          "coloraxis": {
           "colorbar": {
            "outlinewidth": 0,
            "ticks": ""
           }
          },
          "colorscale": {
           "diverging": [
            [
             0,
             "#8e0152"
            ],
            [
             0.1,
             "#c51b7d"
            ],
            [
             0.2,
             "#de77ae"
            ],
            [
             0.3,
             "#f1b6da"
            ],
            [
             0.4,
             "#fde0ef"
            ],
            [
             0.5,
             "#f7f7f7"
            ],
            [
             0.6,
             "#e6f5d0"
            ],
            [
             0.7,
             "#b8e186"
            ],
            [
             0.8,
             "#7fbc41"
            ],
            [
             0.9,
             "#4d9221"
            ],
            [
             1,
             "#276419"
            ]
           ],
           "sequential": [
            [
             0,
             "#0d0887"
            ],
            [
             0.1111111111111111,
             "#46039f"
            ],
            [
             0.2222222222222222,
             "#7201a8"
            ],
            [
             0.3333333333333333,
             "#9c179e"
            ],
            [
             0.4444444444444444,
             "#bd3786"
            ],
            [
             0.5555555555555556,
             "#d8576b"
            ],
            [
             0.6666666666666666,
             "#ed7953"
            ],
            [
             0.7777777777777778,
             "#fb9f3a"
            ],
            [
             0.8888888888888888,
             "#fdca26"
            ],
            [
             1,
             "#f0f921"
            ]
           ],
           "sequentialminus": [
            [
             0,
             "#0d0887"
            ],
            [
             0.1111111111111111,
             "#46039f"
            ],
            [
             0.2222222222222222,
             "#7201a8"
            ],
            [
             0.3333333333333333,
             "#9c179e"
            ],
            [
             0.4444444444444444,
             "#bd3786"
            ],
            [
             0.5555555555555556,
             "#d8576b"
            ],
            [
             0.6666666666666666,
             "#ed7953"
            ],
            [
             0.7777777777777778,
             "#fb9f3a"
            ],
            [
             0.8888888888888888,
             "#fdca26"
            ],
            [
             1,
             "#f0f921"
            ]
           ]
          },
          "colorway": [
           "#636efa",
           "#EF553B",
           "#00cc96",
           "#ab63fa",
           "#FFA15A",
           "#19d3f3",
           "#FF6692",
           "#B6E880",
           "#FF97FF",
           "#FECB52"
          ],
          "font": {
           "color": "#2a3f5f"
          },
          "geo": {
           "bgcolor": "white",
           "lakecolor": "white",
           "landcolor": "white",
           "showlakes": true,
           "showland": true,
           "subunitcolor": "#C8D4E3"
          },
          "hoverlabel": {
           "align": "left"
          },
          "hovermode": "closest",
          "mapbox": {
           "style": "light"
          },
          "paper_bgcolor": "white",
          "plot_bgcolor": "white",
          "polar": {
           "angularaxis": {
            "gridcolor": "#EBF0F8",
            "linecolor": "#EBF0F8",
            "ticks": ""
           },
           "bgcolor": "white",
           "radialaxis": {
            "gridcolor": "#EBF0F8",
            "linecolor": "#EBF0F8",
            "ticks": ""
           }
          },
          "scene": {
           "xaxis": {
            "backgroundcolor": "white",
            "gridcolor": "#DFE8F3",
            "gridwidth": 2,
            "linecolor": "#EBF0F8",
            "showbackground": true,
            "ticks": "",
            "zerolinecolor": "#EBF0F8"
           },
           "yaxis": {
            "backgroundcolor": "white",
            "gridcolor": "#DFE8F3",
            "gridwidth": 2,
            "linecolor": "#EBF0F8",
            "showbackground": true,
            "ticks": "",
            "zerolinecolor": "#EBF0F8"
           },
           "zaxis": {
            "backgroundcolor": "white",
            "gridcolor": "#DFE8F3",
            "gridwidth": 2,
            "linecolor": "#EBF0F8",
            "showbackground": true,
            "ticks": "",
            "zerolinecolor": "#EBF0F8"
           }
          },
          "shapedefaults": {
           "line": {
            "color": "#2a3f5f"
           }
          },
          "ternary": {
           "aaxis": {
            "gridcolor": "#DFE8F3",
            "linecolor": "#A2B1C6",
            "ticks": ""
           },
           "baxis": {
            "gridcolor": "#DFE8F3",
            "linecolor": "#A2B1C6",
            "ticks": ""
           },
           "bgcolor": "white",
           "caxis": {
            "gridcolor": "#DFE8F3",
            "linecolor": "#A2B1C6",
            "ticks": ""
           }
          },
          "title": {
           "x": 0.05
          },
          "xaxis": {
           "automargin": true,
           "gridcolor": "#EBF0F8",
           "linecolor": "#EBF0F8",
           "ticks": "",
           "title": {
            "standoff": 15
           },
           "zerolinecolor": "#EBF0F8",
           "zerolinewidth": 2
          },
          "yaxis": {
           "automargin": true,
           "gridcolor": "#EBF0F8",
           "linecolor": "#EBF0F8",
           "ticks": "",
           "title": {
            "standoff": 15
           },
           "zerolinecolor": "#EBF0F8",
           "zerolinewidth": 2
          }
         }
        },
        "title": {
         "font": {
          "color": "Black",
          "size": 22
         },
         "text": "Topic Word Scores",
         "x": 0.5,
         "xanchor": "center",
         "yanchor": "top"
        },
        "width": 1000,
        "xaxis": {
         "anchor": "y",
         "domain": [
          0,
          0.175
         ],
         "showgrid": true
        },
        "xaxis2": {
         "anchor": "y2",
         "domain": [
          0.275,
          0.45
         ],
         "showgrid": true
        },
        "xaxis3": {
         "anchor": "y3",
         "domain": [
          0.55,
          0.7250000000000001
         ],
         "showgrid": true
        },
        "xaxis4": {
         "anchor": "y4",
         "domain": [
          0.825,
          1
         ],
         "showgrid": true
        },
        "yaxis": {
         "anchor": "x",
         "domain": [
          0,
          1
         ],
         "showgrid": true
        },
        "yaxis2": {
         "anchor": "x2",
         "domain": [
          0,
          1
         ],
         "showgrid": true
        },
        "yaxis3": {
         "anchor": "x3",
         "domain": [
          0,
          1
         ],
         "showgrid": true
        },
        "yaxis4": {
         "anchor": "x4",
         "domain": [
          0,
          1
         ],
         "showgrid": true
        }
       }
      }
     },
     "metadata": {},
     "output_type": "display_data"
    }
   ],
   "source": [
    "model.visualize_barchart(top_n_topics=topics_count)"
   ]
  },
  {
   "cell_type": "code",
   "execution_count": 11,
   "metadata": {},
   "outputs": [
    {
     "data": {
      "text/plain": [
       "['nuclear', 'weapons', 'world', 'existence', 'aggressive']"
      ]
     },
     "execution_count": 11,
     "metadata": {},
     "output_type": "execute_result"
    }
   ],
   "source": [
    "model.get_topic_info()['Representation'][0]"
   ]
  },
  {
   "cell_type": "code",
   "execution_count": 12,
   "metadata": {},
   "outputs": [],
   "source": [
    "new_topics = model.reduce_outliers(convs, topics, strategy=\"c-tf-idf\")"
   ]
  },
  {
   "cell_type": "code",
   "execution_count": 13,
   "metadata": {},
   "outputs": [
    {
     "name": "stderr",
     "output_type": "stream",
     "text": [
      "2023-12-05 01:02:15,067 - BERTopic - WARNING: Using a custom list of topic assignments may lead to errors if topic reduction techniques are used afterwards. Make sure that manually assigning topics is the last step in the pipeline.Note that topic embeddings will also be created through weightedc-TF-IDF embeddings instead of centroid embeddings.\n"
     ]
    }
   ],
   "source": [
    "model.update_topics(convs, topics=new_topics, vectorizer_model=vectorizer_model)"
   ]
  },
  {
   "cell_type": "code",
   "execution_count": 14,
   "metadata": {},
   "outputs": [
    {
     "data": {
      "text/html": [
       "<div>\n",
       "<style scoped>\n",
       "    .dataframe tbody tr th:only-of-type {\n",
       "        vertical-align: middle;\n",
       "    }\n",
       "\n",
       "    .dataframe tbody tr th {\n",
       "        vertical-align: top;\n",
       "    }\n",
       "\n",
       "    .dataframe thead th {\n",
       "        text-align: right;\n",
       "    }\n",
       "</style>\n",
       "<table border=\"1\" class=\"dataframe\">\n",
       "  <thead>\n",
       "    <tr style=\"text-align: right;\">\n",
       "      <th></th>\n",
       "      <th>Topic</th>\n",
       "      <th>Count</th>\n",
       "      <th>Name</th>\n",
       "      <th>Representation</th>\n",
       "      <th>Representative_Docs</th>\n",
       "    </tr>\n",
       "  </thead>\n",
       "  <tbody>\n",
       "    <tr>\n",
       "      <th>0</th>\n",
       "      <td>0</td>\n",
       "      <td>44</td>\n",
       "      <td>0_weapons_nuclear_existence_stability</td>\n",
       "      <td>[weapons, nuclear, existence, stability, natio...</td>\n",
       "      <td>[&gt;&gt;&gt;&gt; \\nI understand my counterpart's point th...</td>\n",
       "    </tr>\n",
       "    <tr>\n",
       "      <th>1</th>\n",
       "      <td>1</td>\n",
       "      <td>28</td>\n",
       "      <td>1_nuclear_weapons_security_global</td>\n",
       "      <td>[nuclear, weapons, security, global, nations, ...</td>\n",
       "      <td>[&gt;&gt;&gt;&gt;  I understand my liberal counterpart's p...</td>\n",
       "    </tr>\n",
       "    <tr>\n",
       "      <th>2</th>\n",
       "      <td>2</td>\n",
       "      <td>20</td>\n",
       "      <td>2_nuclear_deterrence_conflict_security</td>\n",
       "      <td>[nuclear, deterrence, conflict, security, worl...</td>\n",
       "      <td>[&gt;&gt;&gt;&gt;  My colleague's argument that nuclear de...</td>\n",
       "    </tr>\n",
       "    <tr>\n",
       "      <th>3</th>\n",
       "      <td>3</td>\n",
       "      <td>9</td>\n",
       "      <td>3_nuclear_nonstate_economic_actors</td>\n",
       "      <td>[nuclear, nonstate, economic, actors, weapons,...</td>\n",
       "      <td>[&gt;&gt;&gt;&gt; \\nWhile I understand my colleague's argu...</td>\n",
       "    </tr>\n",
       "  </tbody>\n",
       "</table>\n",
       "</div>"
      ],
      "text/plain": [
       "   Topic  Count                                    Name   \n",
       "0      0     44   0_weapons_nuclear_existence_stability  \\\n",
       "1      1     28       1_nuclear_weapons_security_global   \n",
       "2      2     20  2_nuclear_deterrence_conflict_security   \n",
       "3      3      9      3_nuclear_nonstate_economic_actors   \n",
       "\n",
       "                                      Representation   \n",
       "0  [weapons, nuclear, existence, stability, natio...  \\\n",
       "1  [nuclear, weapons, security, global, nations, ...   \n",
       "2  [nuclear, deterrence, conflict, security, worl...   \n",
       "3  [nuclear, nonstate, economic, actors, weapons,...   \n",
       "\n",
       "                                 Representative_Docs  \n",
       "0  [>>>> \\nI understand my counterpart's point th...  \n",
       "1  [>>>>  I understand my liberal counterpart's p...  \n",
       "2  [>>>>  My colleague's argument that nuclear de...  \n",
       "3  [>>>> \\nWhile I understand my colleague's argu...  "
      ]
     },
     "execution_count": 14,
     "metadata": {},
     "output_type": "execute_result"
    }
   ],
   "source": [
    "model.get_topic_info()"
   ]
  },
  {
   "cell_type": "code",
   "execution_count": 15,
   "metadata": {},
   "outputs": [
    {
     "data": {
      "text/html": [
       "<div>\n",
       "<style scoped>\n",
       "    .dataframe tbody tr th:only-of-type {\n",
       "        vertical-align: middle;\n",
       "    }\n",
       "\n",
       "    .dataframe tbody tr th {\n",
       "        vertical-align: top;\n",
       "    }\n",
       "\n",
       "    .dataframe thead th {\n",
       "        text-align: right;\n",
       "    }\n",
       "</style>\n",
       "<table border=\"1\" class=\"dataframe\">\n",
       "  <thead>\n",
       "    <tr style=\"text-align: right;\">\n",
       "      <th></th>\n",
       "      <th>Document</th>\n",
       "      <th>Topic</th>\n",
       "      <th>Name</th>\n",
       "      <th>Representation</th>\n",
       "      <th>Representative_Docs</th>\n",
       "      <th>Top_n_words</th>\n",
       "      <th>Probability</th>\n",
       "      <th>Representative_document</th>\n",
       "    </tr>\n",
       "  </thead>\n",
       "  <tbody>\n",
       "    <tr>\n",
       "      <th>0</th>\n",
       "      <td>Agent1 ---</td>\n",
       "      <td>1</td>\n",
       "      <td>1_nuclear_weapons_security_global</td>\n",
       "      <td>[nuclear, weapons, security, global, nations, ...</td>\n",
       "      <td>[&gt;&gt;&gt;&gt;  I understand my liberal counterpart's p...</td>\n",
       "      <td>nuclear - weapons - security - global - nation...</td>\n",
       "      <td>0.360528</td>\n",
       "      <td>False</td>\n",
       "    </tr>\n",
       "    <tr>\n",
       "      <th>1</th>\n",
       "      <td>&gt;&gt;&gt;&gt; \\nThe world does not need nuclear weapons...</td>\n",
       "      <td>0</td>\n",
       "      <td>0_weapons_nuclear_existence_stability</td>\n",
       "      <td>[weapons, nuclear, existence, stability, natio...</td>\n",
       "      <td>[&gt;&gt;&gt;&gt; \\nI understand my counterpart's point th...</td>\n",
       "      <td>weapons - nuclear - existence - stability - na...</td>\n",
       "      <td>0.498553</td>\n",
       "      <td>False</td>\n",
       "    </tr>\n",
       "    <tr>\n",
       "      <th>2</th>\n",
       "      <td>&gt;&gt;&gt;&gt; \\nThe world needs nuclear weapons to main...</td>\n",
       "      <td>0</td>\n",
       "      <td>0_weapons_nuclear_existence_stability</td>\n",
       "      <td>[weapons, nuclear, existence, stability, natio...</td>\n",
       "      <td>[&gt;&gt;&gt;&gt; \\nI understand my counterpart's point th...</td>\n",
       "      <td>weapons - nuclear - existence - stability - na...</td>\n",
       "      <td>0.388126</td>\n",
       "      <td>False</td>\n",
       "    </tr>\n",
       "    <tr>\n",
       "      <th>3</th>\n",
       "      <td>&gt;&gt;&gt;&gt; \\nWhile I understand my colleague's argum...</td>\n",
       "      <td>0</td>\n",
       "      <td>0_weapons_nuclear_existence_stability</td>\n",
       "      <td>[weapons, nuclear, existence, stability, natio...</td>\n",
       "      <td>[&gt;&gt;&gt;&gt; \\nI understand my counterpart's point th...</td>\n",
       "      <td>weapons - nuclear - existence - stability - na...</td>\n",
       "      <td>0.277919</td>\n",
       "      <td>False</td>\n",
       "    </tr>\n",
       "    <tr>\n",
       "      <th>4</th>\n",
       "      <td>&gt;&gt;&gt;&gt; \\nI strongly disagree with my colleague's...</td>\n",
       "      <td>2</td>\n",
       "      <td>2_nuclear_deterrence_conflict_security</td>\n",
       "      <td>[nuclear, deterrence, conflict, security, worl...</td>\n",
       "      <td>[&gt;&gt;&gt;&gt;  My colleague's argument that nuclear de...</td>\n",
       "      <td>nuclear - deterrence - conflict - security - w...</td>\n",
       "      <td>0.497617</td>\n",
       "      <td>False</td>\n",
       "    </tr>\n",
       "  </tbody>\n",
       "</table>\n",
       "</div>"
      ],
      "text/plain": [
       "                                            Document  Topic   \n",
       "0                                         Agent1 ---      1  \\\n",
       "1  >>>> \\nThe world does not need nuclear weapons...      0   \n",
       "2  >>>> \\nThe world needs nuclear weapons to main...      0   \n",
       "3  >>>> \\nWhile I understand my colleague's argum...      0   \n",
       "4  >>>> \\nI strongly disagree with my colleague's...      2   \n",
       "\n",
       "                                     Name   \n",
       "0       1_nuclear_weapons_security_global  \\\n",
       "1   0_weapons_nuclear_existence_stability   \n",
       "2   0_weapons_nuclear_existence_stability   \n",
       "3   0_weapons_nuclear_existence_stability   \n",
       "4  2_nuclear_deterrence_conflict_security   \n",
       "\n",
       "                                      Representation   \n",
       "0  [nuclear, weapons, security, global, nations, ...  \\\n",
       "1  [weapons, nuclear, existence, stability, natio...   \n",
       "2  [weapons, nuclear, existence, stability, natio...   \n",
       "3  [weapons, nuclear, existence, stability, natio...   \n",
       "4  [nuclear, deterrence, conflict, security, worl...   \n",
       "\n",
       "                                 Representative_Docs   \n",
       "0  [>>>>  I understand my liberal counterpart's p...  \\\n",
       "1  [>>>> \\nI understand my counterpart's point th...   \n",
       "2  [>>>> \\nI understand my counterpart's point th...   \n",
       "3  [>>>> \\nI understand my counterpart's point th...   \n",
       "4  [>>>>  My colleague's argument that nuclear de...   \n",
       "\n",
       "                                         Top_n_words  Probability   \n",
       "0  nuclear - weapons - security - global - nation...     0.360528  \\\n",
       "1  weapons - nuclear - existence - stability - na...     0.498553   \n",
       "2  weapons - nuclear - existence - stability - na...     0.388126   \n",
       "3  weapons - nuclear - existence - stability - na...     0.277919   \n",
       "4  nuclear - deterrence - conflict - security - w...     0.497617   \n",
       "\n",
       "   Representative_document  \n",
       "0                    False  \n",
       "1                    False  \n",
       "2                    False  \n",
       "3                    False  \n",
       "4                    False  "
      ]
     },
     "execution_count": 15,
     "metadata": {},
     "output_type": "execute_result"
    }
   ],
   "source": [
    "text_data=model.get_document_info(convs)\n",
    "text_data.head(5)"
   ]
  },
  {
   "cell_type": "code",
   "execution_count": 16,
   "metadata": {},
   "outputs": [],
   "source": [
    "model_name = \"yangheng/deberta-v3-base-absa-v1.1\"\n",
    "tokenizer = AutoTokenizer.from_pretrained(model_name)\n",
    "absa_model = AutoModelForSequenceClassification.from_pretrained(model_name)"
   ]
  },
  {
   "cell_type": "code",
   "execution_count": 17,
   "metadata": {},
   "outputs": [],
   "source": [
    "def get_aspect_scores(text,aspect_list):\n",
    "    sentiment_aspect = {}\n",
    "    for aspect in aspect_list:\n",
    "        inputs = tokenizer(text, aspect, return_tensors=\"pt\")\n",
    "\n",
    "        with torch.inference_mode():\n",
    "            outputs = absa_model(**inputs)\n",
    "\n",
    "        scores = F.softmax(outputs.logits[0], dim=-1)\n",
    "        label_id = torch.argmax(scores).item()\n",
    "        sentiment_aspect[aspect] = (absa_model.config.id2label[label_id], scores[label_id].item())\n",
    "\n",
    "    print(sentiment_aspect)\n",
    "    return sentiment_aspect\n",
    "\n"
   ]
  },
  {
   "cell_type": "code",
   "execution_count": 18,
   "metadata": {},
   "outputs": [
    {
     "data": {
      "text/plain": [
       "['weapons',\n",
       " 'nuclear',\n",
       " 'existence',\n",
       " 'stability',\n",
       " 'nations',\n",
       " 'led',\n",
       " 'world',\n",
       " 'aggressive',\n",
       " 'deterrent',\n",
       " 'disagree']"
      ]
     },
     "execution_count": 18,
     "metadata": {},
     "output_type": "execute_result"
    }
   ],
   "source": [
    "text_data[\"Representation\"][1]"
   ]
  },
  {
   "cell_type": "code",
   "execution_count": 19,
   "metadata": {},
   "outputs": [
    {
     "name": "stdout",
     "output_type": "stream",
     "text": [
      "{'weapons': ('Negative', 0.8678022027015686), 'nuclear': ('Negative', 0.8668756484985352), 'existence': ('Negative', 0.7782708406448364), 'stability': ('Negative', 0.9457460641860962), 'nations': ('Negative', 0.7207546830177307), 'led': ('Negative', 0.7205950021743774), 'world': ('Negative', 0.7314151525497437), 'aggressive': ('Negative', 0.7485793828964233), 'deterrent': ('Negative', 0.8038850426673889), 'disagree': ('Negative', 0.8213804364204407)}\n"
     ]
    },
    {
     "data": {
      "text/plain": [
       "{'weapons': ('Negative', 0.8678022027015686),\n",
       " 'nuclear': ('Negative', 0.8668756484985352),\n",
       " 'existence': ('Negative', 0.7782708406448364),\n",
       " 'stability': ('Negative', 0.9457460641860962),\n",
       " 'nations': ('Negative', 0.7207546830177307),\n",
       " 'led': ('Negative', 0.7205950021743774),\n",
       " 'world': ('Negative', 0.7314151525497437),\n",
       " 'aggressive': ('Negative', 0.7485793828964233),\n",
       " 'deterrent': ('Negative', 0.8038850426673889),\n",
       " 'disagree': ('Negative', 0.8213804364204407)}"
      ]
     },
     "execution_count": 19,
     "metadata": {},
     "output_type": "execute_result"
    }
   ],
   "source": [
    "get_aspect_scores(text_data[\"Document\"][1],text_data[\"Representation\"][1])"
   ]
  },
  {
   "cell_type": "code",
   "execution_count": 20,
   "metadata": {},
   "outputs": [
    {
     "name": "stdout",
     "output_type": "stream",
     "text": [
      "{'nuclear': ('Neutral', 0.9567712545394897), 'weapons': ('Neutral', 0.9705731272697449), 'security': ('Neutral', 0.9672309160232544), 'global': ('Neutral', 0.8518043756484985), 'nations': ('Neutral', 0.9869593977928162), 'world': ('Neutral', 0.6551769375801086), 'deterrent': ('Neutral', 0.9334036707878113), 'necessary': ('Neutral', 0.8231979012489319), 'threat': ('Neutral', 0.9535980224609375), 'disagree': ('Negative', 0.8142071962356567)}\n",
      "{'weapons': ('Negative', 0.8678022027015686), 'nuclear': ('Negative', 0.8668756484985352), 'existence': ('Negative', 0.7782708406448364), 'stability': ('Negative', 0.9457460641860962), 'nations': ('Negative', 0.7207546830177307), 'led': ('Negative', 0.7205950021743774), 'world': ('Negative', 0.7314151525497437), 'aggressive': ('Negative', 0.7485793828964233), 'deterrent': ('Negative', 0.8038850426673889), 'disagree': ('Negative', 0.8213804364204407)}\n",
      "{'weapons': ('Positive', 0.5935032963752747), 'nuclear': ('Positive', 0.6163008809089661), 'existence': ('Positive', 0.5688220858573914), 'stability': ('Positive', 0.6046964526176453), 'nations': ('Positive', 0.5323311686515808), 'led': ('Positive', 0.5763167142868042), 'world': ('Positive', 0.5422934293746948), 'aggressive': ('Positive', 0.40732771158218384), 'deterrent': ('Positive', 0.6490201950073242), 'disagree': ('Positive', 0.4797639846801758)}\n",
      "{'weapons': ('Negative', 0.7221166491508484), 'nuclear': ('Negative', 0.7419470548629761), 'existence': ('Negative', 0.6141210198402405), 'stability': ('Negative', 0.6619279980659485), 'nations': ('Negative', 0.7351846098899841), 'led': ('Negative', 0.5924642086029053), 'world': ('Negative', 0.6332713961601257), 'aggressive': ('Negative', 0.6919018626213074), 'deterrent': ('Negative', 0.7145264148712158), 'disagree': ('Negative', 0.6457548141479492)}\n",
      "{'nuclear': ('Negative', 0.44156360626220703), 'deterrence': ('Positive', 0.4482894241809845), 'conflict': ('Negative', 0.5553807616233826), 'security': ('Positive', 0.4237886369228363), 'world': ('Positive', 0.39362993836402893), 'aggression': ('Negative', 0.6635920405387878), 'weapons': ('Negative', 0.45175519585609436), 'global': ('Negative', 0.4344771206378937), 'international': ('Negative', 0.44839704036712646), 'addressing': ('Negative', 0.5438786745071411)}\n",
      "{'nuclear': ('Negative', 0.6014879941940308), 'deterrence': ('Negative', 0.4947868883609772), 'conflict': ('Negative', 0.7040256857872009), 'security': ('Negative', 0.4226125478744507), 'world': ('Neutral', 0.389640212059021), 'aggression': ('Negative', 0.5653887987136841), 'weapons': ('Negative', 0.5576415061950684), 'global': ('Negative', 0.400167852640152), 'international': ('Negative', 0.4659385085105896), 'addressing': ('Negative', 0.45878899097442627)}\n",
      "{'nuclear': ('Positive', 0.5164921879768372), 'deterrence': ('Positive', 0.5223820805549622), 'conflict': ('Negative', 0.6722822785377502), 'security': ('Positive', 0.605854868888855), 'world': ('Negative', 0.4856949746608734), 'aggression': ('Negative', 0.6141200661659241), 'weapons': ('Positive', 0.5235636234283447), 'global': ('Positive', 0.44870561361312866), 'international': ('Positive', 0.40423306822776794), 'addressing': ('Negative', 0.5593258142471313)}\n",
      "{'nuclear': ('Positive', 0.3767015039920807), 'deterrence': ('Positive', 0.38934126496315), 'conflict': ('Negative', 0.4056853652000427), 'security': ('Positive', 0.3859519958496094), 'world': ('Positive', 0.4985214173793793), 'aggression': ('Neutral', 0.45526736974716187), 'weapons': ('Negative', 0.43403923511505127), 'global': ('Positive', 0.4759886562824249), 'international': ('Positive', 0.4320225715637207), 'addressing': ('Positive', 0.5134904980659485)}\n",
      "{'nuclear': ('Negative', 0.37748706340789795), 'deterrence': ('Positive', 0.37128350138664246), 'conflict': ('Negative', 0.4887753427028656), 'security': ('Neutral', 0.3413695693016052), 'world': ('Negative', 0.37836501002311707), 'aggression': ('Negative', 0.5550382733345032), 'weapons': ('Neutral', 0.36879777908325195), 'global': ('Neutral', 0.39215847849845886), 'international': ('Negative', 0.3771608769893646), 'addressing': ('Negative', 0.5564186573028564)}\n",
      "{'nuclear': ('Negative', 0.4386938512325287), 'deterrence': ('Negative', 0.37756678462028503), 'conflict': ('Neutral', 0.39207667112350464), 'security': ('Neutral', 0.4664635956287384), 'world': ('Neutral', 0.47792181372642517), 'aggression': ('Neutral', 0.48397549986839294), 'weapons': ('Negative', 0.4046837389469147), 'global': ('Neutral', 0.4681223928928375), 'international': ('Positive', 0.3790200352668762), 'addressing': ('Positive', 0.41993945837020874)}\n",
      "{'nuclear': ('Negative', 0.5353533625602722), 'deterrence': ('Negative', 0.4838644564151764), 'conflict': ('Negative', 0.5055618286132812), 'security': ('Neutral', 0.46543756127357483), 'world': ('Neutral', 0.3693965673446655), 'aggression': ('Negative', 0.5770529508590698), 'weapons': ('Negative', 0.49916383624076843), 'global': ('Neutral', 0.4353443384170532), 'international': ('Negative', 0.39685434103012085), 'addressing': ('Negative', 0.3821427822113037)}\n",
      "{'nuclear': ('Positive', 0.6152549982070923), 'deterrence': ('Positive', 0.6325350999832153), 'conflict': ('Negative', 0.6213744878768921), 'security': ('Positive', 0.6022642850875854), 'world': ('Positive', 0.6326971054077148), 'aggression': ('Negative', 0.5921618342399597), 'weapons': ('Positive', 0.4795724153518677), 'global': ('Positive', 0.5611028075218201), 'international': ('Positive', 0.5624708533287048), 'addressing': ('Positive', 0.6594188809394836)}\n",
      "{'nuclear': ('Negative', 0.7748584151268005), 'deterrence': ('Negative', 0.7435795664787292), 'conflict': ('Negative', 0.6536411046981812), 'security': ('Negative', 0.4136523902416229), 'world': ('Negative', 0.43289995193481445), 'aggression': ('Negative', 0.5215834379196167), 'weapons': ('Negative', 0.7336369752883911), 'global': ('Negative', 0.5213229060173035), 'international': ('Negative', 0.5032708048820496), 'addressing': ('Negative', 0.44319120049476624)}\n",
      "{'nuclear': ('Negative', 0.9109435081481934), 'deterrence': ('Negative', 0.9328901767730713), 'conflict': ('Negative', 0.8095486760139465), 'security': ('Negative', 0.6825432777404785), 'world': ('Negative', 0.6533260345458984), 'aggression': ('Negative', 0.6852163076400757), 'weapons': ('Negative', 0.8854052424430847), 'global': ('Negative', 0.7098035216331482), 'international': ('Negative', 0.6753958463668823), 'addressing': ('Negative', 0.6745871305465698)}\n",
      "{'nuclear': ('Positive', 0.8361470103263855), 'nonstate': ('Positive', 0.7281426191329956), 'economic': ('Positive', 0.7715226411819458), 'actors': ('Positive', 0.7840811014175415), 'weapons': ('Positive', 0.7751401662826538), 'proliferation': ('Positive', 0.7247285842895508), 'credible': ('Positive', 0.8808515071868896), 'means': ('Positive', 0.7838538289070129), 'preventing': ('Positive', 0.8664738535881042), 'measures': ('Positive', 0.8037134408950806)}\n",
      "{'nuclear': ('Negative', 0.5867330431938171), 'nonstate': ('Negative', 0.5239896774291992), 'economic': ('Negative', 0.5121133327484131), 'actors': ('Negative', 0.5402840375900269), 'weapons': ('Negative', 0.5350626111030579), 'proliferation': ('Negative', 0.5730792284011841), 'credible': ('Negative', 0.5257388949394226), 'means': ('Negative', 0.5301142930984497), 'preventing': ('Negative', 0.5444065928459167), 'measures': ('Negative', 0.5119979977607727)}\n",
      "{'nuclear': ('Negative', 0.4119167923927307), 'nonstate': ('Negative', 0.5709249973297119), 'economic': ('Negative', 0.7896289229393005), 'actors': ('Negative', 0.6519759297370911), 'weapons': ('Negative', 0.5409936904907227), 'proliferation': ('Negative', 0.7896173596382141), 'credible': ('Positive', 0.5354384779930115), 'means': ('Negative', 0.49693578481674194), 'preventing': ('Negative', 0.44947782158851624), 'measures': ('Negative', 0.7674033045768738)}\n",
      "{'nuclear': ('Negative', 0.5276070833206177), 'nonstate': ('Negative', 0.509739100933075), 'economic': ('Negative', 0.4703177511692047), 'actors': ('Negative', 0.556635856628418), 'weapons': ('Negative', 0.5221141576766968), 'proliferation': ('Negative', 0.5533192157745361), 'credible': ('Negative', 0.5320954322814941), 'means': ('Negative', 0.5062220692634583), 'preventing': ('Negative', 0.48894035816192627), 'measures': ('Negative', 0.46596917510032654)}\n",
      "{'nuclear': ('Negative', 0.8505024909973145), 'nonstate': ('Negative', 0.8836438655853271), 'economic': ('Negative', 0.9007439613342285), 'actors': ('Negative', 0.8933348655700684), 'weapons': ('Negative', 0.8517013192176819), 'proliferation': ('Negative', 0.8974563479423523), 'credible': ('Negative', 0.8356610536575317), 'means': ('Negative', 0.8738185167312622), 'preventing': ('Negative', 0.8795225620269775), 'measures': ('Negative', 0.9030135273933411)}\n",
      "{'nuclear': ('Negative', 0.5451042056083679), 'nonstate': ('Negative', 0.5186498761177063), 'economic': ('Negative', 0.49369245767593384), 'actors': ('Negative', 0.5606151819229126), 'weapons': ('Negative', 0.5423322916030884), 'proliferation': ('Negative', 0.5550748705863953), 'credible': ('Negative', 0.5879876017570496), 'means': ('Negative', 0.5264706611633301), 'preventing': ('Negative', 0.5317185521125793), 'measures': ('Negative', 0.49277740716934204)}\n",
      "{'nuclear': ('Negative', 0.4371751546859741), 'nonstate': ('Negative', 0.4887780249118805), 'economic': ('Negative', 0.3887706696987152), 'actors': ('Negative', 0.5702077746391296), 'weapons': ('Negative', 0.47594377398490906), 'proliferation': ('Negative', 0.5720594525337219), 'credible': ('Positive', 0.44910308718681335), 'means': ('Negative', 0.4875655472278595), 'preventing': ('Negative', 0.4537522792816162), 'measures': ('Negative', 0.4623943865299225)}\n",
      "{'nuclear': ('Negative', 0.6993452310562134), 'nonstate': ('Negative', 0.6353673934936523), 'economic': ('Negative', 0.6157602667808533), 'actors': ('Negative', 0.6195645332336426), 'weapons': ('Negative', 0.6754632592201233), 'proliferation': ('Negative', 0.7042185068130493), 'credible': ('Negative', 0.7092416286468506), 'means': ('Negative', 0.6470829248428345), 'preventing': ('Negative', 0.6744877696037292), 'measures': ('Negative', 0.6386861205101013)}\n",
      "{'weapons': ('Positive', 0.6820230484008789), 'nuclear': ('Positive', 0.745891273021698), 'existence': ('Neutral', 0.3448505997657776), 'stability': ('Positive', 0.74961256980896), 'nations': ('Positive', 0.7340657114982605), 'led': ('Positive', 0.7269237041473389), 'world': ('Positive', 0.729386568069458), 'aggressive': ('Positive', 0.649547815322876), 'deterrent': ('Positive', 0.8307806253433228), 'disagree': ('Positive', 0.8371420502662659)}\n",
      "{'nuclear': ('Negative', 0.825530469417572), 'nonstate': ('Negative', 0.7919862866401672), 'economic': ('Negative', 0.7783581018447876), 'actors': ('Negative', 0.8176660537719727), 'weapons': ('Negative', 0.841363251209259), 'proliferation': ('Negative', 0.8684191703796387), 'credible': ('Negative', 0.8429693579673767), 'means': ('Negative', 0.7911149263381958), 'preventing': ('Negative', 0.8016049265861511), 'measures': ('Negative', 0.7845276594161987)}\n",
      "{'nuclear': ('Positive', 0.4548031687736511), 'weapons': ('Positive', 0.4754350185394287), 'security': ('Positive', 0.482450008392334), 'global': ('Negative', 0.443509042263031), 'nations': ('Negative', 0.44246089458465576), 'world': ('Negative', 0.42706289887428284), 'deterrent': ('Positive', 0.45850521326065063), 'necessary': ('Positive', 0.41231322288513184), 'threat': ('Negative', 0.554997444152832), 'disagree': ('Negative', 0.4879160523414612)}\n",
      "{'weapons': ('Negative', 0.8462077379226685), 'nuclear': ('Negative', 0.8642733097076416), 'existence': ('Negative', 0.8558188676834106), 'stability': ('Negative', 0.6945862174034119), 'nations': ('Negative', 0.7840628623962402), 'led': ('Negative', 0.6986556649208069), 'world': ('Negative', 0.645881175994873), 'aggressive': ('Negative', 0.8703933358192444), 'deterrent': ('Negative', 0.8558841943740845), 'disagree': ('Negative', 0.7224147915840149)}\n",
      "{'nuclear': ('Positive', 0.7141059041023254), 'weapons': ('Positive', 0.7008814215660095), 'security': ('Positive', 0.7250893712043762), 'global': ('Positive', 0.6577142477035522), 'nations': ('Positive', 0.5757740139961243), 'world': ('Positive', 0.6085360646247864), 'deterrent': ('Positive', 0.7383854985237122), 'necessary': ('Positive', 0.7624391317367554), 'threat': ('Positive', 0.49511250853538513), 'disagree': ('Positive', 0.7417033314704895)}\n",
      "{'weapons': ('Negative', 0.8291946053504944), 'nuclear': ('Negative', 0.8484550714492798), 'existence': ('Negative', 0.9121347665786743), 'stability': ('Negative', 0.6638169288635254), 'nations': ('Negative', 0.798262357711792), 'led': ('Negative', 0.6310359835624695), 'world': ('Negative', 0.5819270014762878), 'aggressive': ('Negative', 0.8457185626029968), 'deterrent': ('Negative', 0.8464102149009705), 'disagree': ('Negative', 0.6657586693763733)}\n",
      "{'weapons': ('Positive', 0.5561646819114685), 'nuclear': ('Positive', 0.544206976890564), 'existence': ('Positive', 0.46044960618019104), 'stability': ('Positive', 0.48919862508773804), 'nations': ('Positive', 0.5937034487724304), 'led': ('Positive', 0.4943077266216278), 'world': ('Positive', 0.5066472887992859), 'aggressive': ('Negative', 0.5399742126464844), 'deterrent': ('Negative', 0.4859131872653961), 'disagree': ('Negative', 0.4566687345504761)}\n",
      "{'nuclear': ('Negative', 0.4463626742362976), 'deterrence': ('Negative', 0.4553166329860687), 'conflict': ('Positive', 0.38417544960975647), 'security': ('Positive', 0.44296953082084656), 'world': ('Positive', 0.5389882922172546), 'aggression': ('Positive', 0.3788459002971649), 'weapons': ('Positive', 0.36106616258621216), 'global': ('Positive', 0.49771174788475037), 'international': ('Positive', 0.5530563592910767), 'addressing': ('Positive', 0.5637316107749939)}\n",
      "{'nuclear': ('Positive', 0.692784309387207), 'deterrence': ('Positive', 0.6968816518783569), 'conflict': ('Positive', 0.45775043964385986), 'security': ('Positive', 0.7039682269096375), 'world': ('Positive', 0.5938847064971924), 'aggression': ('Negative', 0.5329283475875854), 'weapons': ('Positive', 0.6971890330314636), 'global': ('Positive', 0.6586853265762329), 'international': ('Positive', 0.640852689743042), 'addressing': ('Positive', 0.6512335538864136)}\n",
      "{'nuclear': ('Negative', 0.5006200671195984), 'deterrence': ('Negative', 0.5682020783424377), 'conflict': ('Negative', 0.6185436248779297), 'security': ('Negative', 0.4710839092731476), 'world': ('Negative', 0.48948773741722107), 'aggression': ('Negative', 0.5959682464599609), 'weapons': ('Negative', 0.46381253004074097), 'global': ('Negative', 0.4797748923301697), 'international': ('Negative', 0.5053070783615112), 'addressing': ('Negative', 0.5393978953361511)}\n",
      "{'nuclear': ('Negative', 0.8054360747337341), 'deterrence': ('Negative', 0.7357451319694519), 'conflict': ('Negative', 0.7287874221801758), 'security': ('Negative', 0.6942684650421143), 'world': ('Negative', 0.7528178691864014), 'aggression': ('Negative', 0.7749156355857849), 'weapons': ('Negative', 0.7902113795280457), 'global': ('Negative', 0.7022334933280945), 'international': ('Negative', 0.7062337398529053), 'addressing': ('Negative', 0.737716794013977)}\n",
      "{'weapons': ('Negative', 0.8793297410011292), 'nuclear': ('Negative', 0.8916689157485962), 'existence': ('Negative', 0.9334913492202759), 'stability': ('Negative', 0.8268596529960632), 'nations': ('Negative', 0.8415865898132324), 'led': ('Negative', 0.8326652646064758), 'world': ('Negative', 0.8219745755195618), 'aggressive': ('Negative', 0.8138126134872437), 'deterrent': ('Negative', 0.837598443031311), 'disagree': ('Negative', 0.8632077574729919)}\n",
      "{'weapons': ('Negative', 0.8221219182014465), 'nuclear': ('Negative', 0.8239026665687561), 'existence': ('Negative', 0.8376314043998718), 'stability': ('Negative', 0.8230225443840027), 'nations': ('Negative', 0.8905413150787354), 'led': ('Negative', 0.8569156527519226), 'world': ('Negative', 0.8865124583244324), 'aggressive': ('Negative', 0.8719186186790466), 'deterrent': ('Negative', 0.8066733479499817), 'disagree': ('Negative', 0.8455268740653992)}\n",
      "{'weapons': ('Negative', 0.8911124467849731), 'nuclear': ('Negative', 0.8761686682701111), 'existence': ('Negative', 0.9158810973167419), 'stability': ('Negative', 0.9183473587036133), 'nations': ('Negative', 0.8887501955032349), 'led': ('Negative', 0.772590160369873), 'world': ('Negative', 0.7508872747421265), 'aggressive': ('Negative', 0.865007758140564), 'deterrent': ('Negative', 0.9049261212348938), 'disagree': ('Negative', 0.7878882884979248)}\n",
      "{'nuclear': ('Negative', 0.7213020920753479), 'weapons': ('Negative', 0.6398383975028992), 'security': ('Negative', 0.6280575394630432), 'global': ('Negative', 0.7244672179222107), 'nations': ('Negative', 0.7588358521461487), 'world': ('Negative', 0.7941485047340393), 'deterrent': ('Negative', 0.6350087523460388), 'necessary': ('Negative', 0.6818273663520813), 'threat': ('Negative', 0.7537184953689575), 'disagree': ('Negative', 0.6972398161888123)}\n",
      "{'nuclear': ('Negative', 0.5545471906661987), 'deterrence': ('Negative', 0.527885377407074), 'conflict': ('Negative', 0.6174172759056091), 'security': ('Positive', 0.4560723602771759), 'world': ('Positive', 0.497664213180542), 'aggression': ('Negative', 0.6402291059494019), 'weapons': ('Negative', 0.5058146715164185), 'global': ('Positive', 0.41027313470840454), 'international': ('Positive', 0.4489559829235077), 'addressing': ('Positive', 0.46063169836997986)}\n",
      "{'nuclear': ('Positive', 0.8438586592674255), 'deterrence': ('Positive', 0.8521724939346313), 'conflict': ('Positive', 0.7102084755897522), 'security': ('Positive', 0.7861325144767761), 'world': ('Positive', 0.8036519289016724), 'aggression': ('Positive', 0.7545173764228821), 'weapons': ('Positive', 0.851253867149353), 'global': ('Positive', 0.8133972883224487), 'international': ('Positive', 0.8186419606208801), 'addressing': ('Positive', 0.8157822489738464)}\n",
      "{'nuclear': ('Negative', 0.5585700273513794), 'deterrence': ('Negative', 0.5534650683403015), 'conflict': ('Negative', 0.5789637565612793), 'security': ('Negative', 0.39720961451530457), 'world': ('Negative', 0.40544694662094116), 'aggression': ('Negative', 0.6400831341743469), 'weapons': ('Negative', 0.607040286064148), 'global': ('Negative', 0.4030330777168274), 'international': ('Negative', 0.44935742020606995), 'addressing': ('Negative', 0.43517521023750305)}\n",
      "{'nuclear': ('Positive', 0.7640112042427063), 'deterrence': ('Positive', 0.8013951182365417), 'conflict': ('Positive', 0.5019235014915466), 'security': ('Positive', 0.7286822199821472), 'world': ('Positive', 0.6753552556037903), 'aggression': ('Positive', 0.5331730246543884), 'weapons': ('Positive', 0.7508882880210876), 'global': ('Positive', 0.7194581031799316), 'international': ('Positive', 0.625925600528717), 'addressing': ('Positive', 0.6869603395462036)}\n",
      "{'nuclear': ('Negative', 0.7258493900299072), 'deterrence': ('Negative', 0.8178167343139648), 'conflict': ('Negative', 0.701833188533783), 'security': ('Negative', 0.45045921206474304), 'world': ('Negative', 0.6334198713302612), 'aggression': ('Negative', 0.7695547938346863), 'weapons': ('Negative', 0.7295181751251221), 'global': ('Negative', 0.622586190700531), 'international': ('Negative', 0.5843381881713867), 'addressing': ('Negative', 0.6371948719024658)}\n",
      "{'nuclear': ('Positive', 0.7693164944648743), 'deterrence': ('Positive', 0.794725239276886), 'conflict': ('Positive', 0.593873918056488), 'security': ('Positive', 0.7907670140266418), 'world': ('Positive', 0.7439196705818176), 'aggression': ('Positive', 0.45460253953933716), 'weapons': ('Positive', 0.7718900442123413), 'global': ('Positive', 0.7155027389526367), 'international': ('Positive', 0.6749959588050842), 'addressing': ('Positive', 0.716205358505249)}\n",
      "{'nuclear': ('Negative', 0.7884848117828369), 'weapons': ('Negative', 0.7623873353004456), 'security': ('Negative', 0.4917159974575043), 'global': ('Negative', 0.4153721332550049), 'nations': ('Negative', 0.6485026478767395), 'world': ('Negative', 0.5855979919433594), 'deterrent': ('Negative', 0.8676542639732361), 'necessary': ('Negative', 0.6205403804779053), 'threat': ('Negative', 0.7957392334938049), 'disagree': ('Negative', 0.6903071999549866)}\n",
      "{'nuclear': ('Positive', 0.5149709582328796), 'weapons': ('Positive', 0.5383041501045227), 'security': ('Positive', 0.5245679020881653), 'global': ('Positive', 0.44123950600624084), 'nations': ('Positive', 0.42209503054618835), 'world': ('Positive', 0.4732210636138916), 'deterrent': ('Positive', 0.5384368896484375), 'necessary': ('Positive', 0.4921528697013855), 'threat': ('Negative', 0.4419623017311096), 'disagree': ('Positive', 0.5960948467254639)}\n",
      "{'nuclear': ('Negative', 0.8365175724029541), 'weapons': ('Negative', 0.8131493330001831), 'security': ('Negative', 0.7129656076431274), 'global': ('Negative', 0.7056540846824646), 'nations': ('Negative', 0.7156465649604797), 'world': ('Negative', 0.6357086300849915), 'deterrent': ('Negative', 0.8608354926109314), 'necessary': ('Negative', 0.8322132229804993), 'threat': ('Negative', 0.8360029458999634), 'disagree': ('Negative', 0.7517122030258179)}\n",
      "{'nuclear': ('Positive', 0.7269721031188965), 'weapons': ('Positive', 0.7301382422447205), 'security': ('Positive', 0.7206022143363953), 'global': ('Positive', 0.6987195611000061), 'nations': ('Positive', 0.7033458352088928), 'world': ('Positive', 0.7517203092575073), 'deterrent': ('Positive', 0.7459219098091125), 'necessary': ('Positive', 0.7787919044494629), 'threat': ('Positive', 0.5452858805656433), 'disagree': ('Positive', 0.7458242774009705)}\n",
      "{'nuclear': ('Negative', 0.7657333016395569), 'weapons': ('Negative', 0.7351145148277283), 'security': ('Negative', 0.6070386171340942), 'global': ('Negative', 0.5891686677932739), 'nations': ('Negative', 0.6662710309028625), 'world': ('Negative', 0.6265032291412354), 'deterrent': ('Negative', 0.7774327397346497), 'necessary': ('Negative', 0.7984439134597778), 'threat': ('Negative', 0.6376831531524658), 'disagree': ('Negative', 0.5567941665649414)}\n",
      "{'nuclear': ('Positive', 0.602266252040863), 'weapons': ('Positive', 0.6140836477279663), 'security': ('Positive', 0.5966483950614929), 'global': ('Positive', 0.544621467590332), 'nations': ('Positive', 0.6102716326713562), 'world': ('Positive', 0.5527105331420898), 'deterrent': ('Positive', 0.7764049768447876), 'necessary': ('Positive', 0.690552294254303), 'threat': ('Positive', 0.46515586972236633), 'disagree': ('Positive', 0.7646947503089905)}\n",
      "{'weapons': ('Negative', 0.6294882297515869), 'nuclear': ('Negative', 0.6582401990890503), 'existence': ('Negative', 0.6116174459457397), 'stability': ('Negative', 0.4847750663757324), 'nations': ('Negative', 0.4945947527885437), 'led': ('Negative', 0.49324244260787964), 'world': ('Negative', 0.4549117982387543), 'aggressive': ('Negative', 0.5557754635810852), 'deterrent': ('Negative', 0.42450740933418274), 'disagree': ('Negative', 0.5465364456176758)}\n",
      "{'nuclear': ('Negative', 0.5493589639663696), 'weapons': ('Negative', 0.5378111004829407), 'security': ('Negative', 0.5037131905555725), 'global': ('Negative', 0.5914909243583679), 'nations': ('Negative', 0.5598108768463135), 'world': ('Negative', 0.5556464195251465), 'deterrent': ('Negative', 0.5073492527008057), 'necessary': ('Negative', 0.587397575378418), 'threat': ('Negative', 0.7035524249076843), 'disagree': ('Negative', 0.5669342279434204)}\n",
      "{'nuclear': ('Negative', 0.5432120561599731), 'weapons': ('Negative', 0.5210396647453308), 'security': ('Positive', 0.4075045883655548), 'global': ('Positive', 0.4263498783111572), 'nations': ('Positive', 0.42926064133644104), 'world': ('Positive', 0.4601881206035614), 'deterrent': ('Neutral', 0.39598947763442993), 'necessary': ('Negative', 0.7138474583625793), 'threat': ('Neutral', 0.46316543221473694), 'disagree': ('Positive', 0.408922016620636)}\n",
      "{'nuclear': ('Positive', 0.5711002349853516), 'weapons': ('Positive', 0.5954580903053284), 'security': ('Positive', 0.5693935751914978), 'global': ('Positive', 0.5191814303398132), 'nations': ('Positive', 0.35285484790802), 'world': ('Negative', 0.6164070963859558), 'deterrent': ('Positive', 0.7548208832740784), 'necessary': ('Positive', 0.6364693641662598), 'threat': ('Negative', 0.43660932779312134), 'disagree': ('Positive', 0.6627395153045654)}\n",
      "{'nuclear': ('Negative', 0.6378911733627319), 'weapons': ('Negative', 0.5960747599601746), 'security': ('Neutral', 0.44994890689849854), 'global': ('Neutral', 0.3949715495109558), 'nations': ('Negative', 0.3637280762195587), 'world': ('Negative', 0.3533796966075897), 'deterrent': ('Negative', 0.7284530401229858), 'necessary': ('Negative', 0.5357475876808167), 'threat': ('Negative', 0.4032803773880005), 'disagree': ('Negative', 0.41089221835136414)}\n",
      "{'nuclear': ('Positive', 0.7282782793045044), 'weapons': ('Positive', 0.7454957962036133), 'security': ('Positive', 0.7095279097557068), 'global': ('Positive', 0.6120597124099731), 'nations': ('Positive', 0.55740886926651), 'world': ('Positive', 0.6374309659004211), 'deterrent': ('Positive', 0.7510321140289307), 'necessary': ('Positive', 0.7443326115608215), 'threat': ('Negative', 0.5499496459960938), 'disagree': ('Positive', 0.6072750091552734)}\n",
      "{'weapons': ('Negative', 0.9222458600997925), 'nuclear': ('Negative', 0.9207833409309387), 'existence': ('Negative', 0.9742774963378906), 'stability': ('Negative', 0.6280164122581482), 'nations': ('Negative', 0.711286187171936), 'led': ('Negative', 0.6167085766792297), 'world': ('Negative', 0.6468415260314941), 'aggressive': ('Negative', 0.8936592936515808), 'deterrent': ('Negative', 0.9362715482711792), 'disagree': ('Negative', 0.797740638256073)}\n",
      "{'weapons': ('Positive', 0.5568302869796753), 'nuclear': ('Positive', 0.528820276260376), 'existence': ('Positive', 0.5495293736457825), 'stability': ('Negative', 0.40416812896728516), 'nations': ('Negative', 0.49960964918136597), 'led': ('Positive', 0.4686594307422638), 'world': ('Positive', 0.39949148893356323), 'aggressive': ('Negative', 0.8180655837059021), 'deterrent': ('Positive', 0.6000934839248657), 'disagree': ('Negative', 0.48284855484962463)}\n",
      "{'weapons': ('Negative', 0.8904653787612915), 'nuclear': ('Negative', 0.8967939615249634), 'existence': ('Negative', 0.9339621663093567), 'stability': ('Negative', 0.884104311466217), 'nations': ('Negative', 0.8701427578926086), 'led': ('Negative', 0.8429548740386963), 'world': ('Negative', 0.8060473203659058), 'aggressive': ('Negative', 0.8806352019309998), 'deterrent': ('Negative', 0.7535691857337952), 'disagree': ('Negative', 0.7889413833618164)}\n",
      "{'weapons': ('Positive', 0.5149707794189453), 'nuclear': ('Positive', 0.5118235349655151), 'existence': ('Positive', 0.553428053855896), 'stability': ('Positive', 0.514891505241394), 'nations': ('Negative', 0.646786630153656), 'led': ('Negative', 0.4820527732372284), 'world': ('Negative', 0.46847012639045715), 'aggressive': ('Negative', 0.6085783243179321), 'deterrent': ('Positive', 0.7420831918716431), 'disagree': ('Negative', 0.5080695152282715)}\n",
      "{'weapons': ('Negative', 0.9313516616821289), 'nuclear': ('Negative', 0.9397976994514465), 'existence': ('Negative', 0.9603793025016785), 'stability': ('Negative', 0.7088063359260559), 'nations': ('Negative', 0.8013198375701904), 'led': ('Negative', 0.6425951719284058), 'world': ('Positive', 0.4015524089336395), 'aggressive': ('Negative', 0.934959888458252), 'deterrent': ('Negative', 0.9292654991149902), 'disagree': ('Negative', 0.7707574963569641)}\n",
      "{'nuclear': ('Negative', 0.44139569997787476), 'weapons': ('Negative', 0.4271000027656555), 'security': ('Negative', 0.39552420377731323), 'global': ('Negative', 0.426613986492157), 'nations': ('Negative', 0.5971992015838623), 'world': ('Neutral', 0.41136032342910767), 'deterrent': ('Negative', 0.3522261381149292), 'necessary': ('Negative', 0.6195266246795654), 'threat': ('Negative', 0.5419555902481079), 'disagree': ('Negative', 0.5042652487754822)}\n",
      "{'nuclear': ('Negative', 0.7027166485786438), 'weapons': ('Negative', 0.698540449142456), 'security': ('Negative', 0.7119163274765015), 'global': ('Negative', 0.6175357699394226), 'nations': ('Negative', 0.6970019340515137), 'world': ('Negative', 0.6216955780982971), 'deterrent': ('Negative', 0.6809864044189453), 'necessary': ('Negative', 0.7272499203681946), 'threat': ('Negative', 0.7328776717185974), 'disagree': ('Negative', 0.6429635882377625)}\n",
      "{'nuclear': ('Negative', 0.5527636408805847), 'weapons': ('Negative', 0.5475483536720276), 'security': ('Negative', 0.5207962393760681), 'global': ('Negative', 0.556083619594574), 'nations': ('Negative', 0.6235309839248657), 'world': ('Negative', 0.5769755244255066), 'deterrent': ('Negative', 0.5624745488166809), 'necessary': ('Negative', 0.6173116564750671), 'threat': ('Negative', 0.607345700263977), 'disagree': ('Negative', 0.6033864617347717)}\n",
      "{'nuclear': ('Negative', 0.8016594648361206), 'weapons': ('Negative', 0.793458104133606), 'security': ('Negative', 0.6897723078727722), 'global': ('Negative', 0.6722781658172607), 'nations': ('Negative', 0.7893600463867188), 'world': ('Negative', 0.7553885579109192), 'deterrent': ('Negative', 0.7994260191917419), 'necessary': ('Negative', 0.7952972054481506), 'threat': ('Negative', 0.7567038536071777), 'disagree': ('Negative', 0.7404384016990662)}\n",
      "{'nuclear': ('Negative', 0.5610097050666809), 'weapons': ('Negative', 0.5523701310157776), 'security': ('Negative', 0.528670072555542), 'global': ('Negative', 0.528636634349823), 'nations': ('Negative', 0.6154844164848328), 'world': ('Negative', 0.5558832287788391), 'deterrent': ('Negative', 0.5436717867851257), 'necessary': ('Negative', 0.5809831023216248), 'threat': ('Negative', 0.6462509632110596), 'disagree': ('Negative', 0.5869768261909485)}\n",
      "{'nuclear': ('Negative', 0.867354691028595), 'weapons': ('Negative', 0.8750833868980408), 'security': ('Negative', 0.7781363129615784), 'global': ('Negative', 0.8079739809036255), 'nations': ('Negative', 0.8511841297149658), 'world': ('Negative', 0.7639189958572388), 'deterrent': ('Negative', 0.7732222676277161), 'necessary': ('Negative', 0.8964343070983887), 'threat': ('Negative', 0.921827495098114), 'disagree': ('Negative', 0.8328787088394165)}\n",
      "{'nuclear': ('Negative', 0.6371301412582397), 'weapons': ('Negative', 0.6560782194137573), 'security': ('Negative', 0.5473532676696777), 'global': ('Negative', 0.6413073539733887), 'nations': ('Negative', 0.7766112685203552), 'world': ('Negative', 0.655174732208252), 'deterrent': ('Negative', 0.5944517850875854), 'necessary': ('Negative', 0.7112444639205933), 'threat': ('Negative', 0.8147403597831726), 'disagree': ('Negative', 0.7261460423469543)}\n",
      "{'nuclear': ('Positive', 0.46706047654151917), 'weapons': ('Positive', 0.4649032950401306), 'security': ('Positive', 0.5581400394439697), 'global': ('Positive', 0.5599945187568665), 'nations': ('Positive', 0.5177969932556152), 'world': ('Positive', 0.6407614946365356), 'deterrent': ('Positive', 0.6124651432037354), 'necessary': ('Positive', 0.5436304807662964), 'threat': ('Negative', 0.4227032959461212), 'disagree': ('Negative', 0.42990216612815857)}\n",
      "{'nuclear': ('Positive', 0.5520489811897278), 'weapons': ('Positive', 0.5596122145652771), 'security': ('Positive', 0.552267849445343), 'global': ('Positive', 0.5009918212890625), 'nations': ('Positive', 0.4895521402359009), 'world': ('Positive', 0.5035815834999084), 'deterrent': ('Positive', 0.5857776999473572), 'necessary': ('Positive', 0.5358328819274902), 'threat': ('Positive', 0.4901348054409027), 'disagree': ('Positive', 0.5181496739387512)}\n",
      "{'nuclear': ('Negative', 0.7480113506317139), 'weapons': ('Negative', 0.7096953392028809), 'security': ('Negative', 0.6521499156951904), 'global': ('Negative', 0.6130908131599426), 'nations': ('Negative', 0.6038258075714111), 'world': ('Negative', 0.6761144399642944), 'deterrent': ('Negative', 0.6343544125556946), 'necessary': ('Negative', 0.6998227834701538), 'threat': ('Negative', 0.6480154991149902), 'disagree': ('Negative', 0.7075046300888062)}\n",
      "{'nuclear': ('Positive', 0.5873885154724121), 'weapons': ('Positive', 0.6022552251815796), 'security': ('Positive', 0.6175994873046875), 'global': ('Positive', 0.5759372115135193), 'nations': ('Positive', 0.5217539072036743), 'world': ('Positive', 0.4466087818145752), 'deterrent': ('Positive', 0.6862531900405884), 'necessary': ('Positive', 0.6370949745178223), 'threat': ('Positive', 0.44174325466156006), 'disagree': ('Positive', 0.5155516862869263)}\n",
      "{'weapons': ('Negative', 0.627169132232666), 'nuclear': ('Negative', 0.5573452711105347), 'existence': ('Neutral', 0.9102217555046082), 'stability': ('Neutral', 0.9265133142471313), 'nations': ('Neutral', 0.885060727596283), 'led': ('Neutral', 0.8935810923576355), 'world': ('Neutral', 0.8785210251808167), 'aggressive': ('Neutral', 0.9183785319328308), 'deterrent': ('Neutral', 0.8372902870178223), 'disagree': ('Negative', 0.6575213670730591)}\n",
      "{'nuclear': ('Positive', 0.6573362946510315), 'weapons': ('Positive', 0.686871349811554), 'security': ('Positive', 0.5282729268074036), 'global': ('Negative', 0.4442121088504791), 'nations': ('Negative', 0.541504442691803), 'world': ('Negative', 0.7129935026168823), 'deterrent': ('Positive', 0.6325464844703674), 'necessary': ('Positive', 0.5838905572891235), 'threat': ('Negative', 0.5330777764320374), 'disagree': ('Negative', 0.7409570813179016)}\n",
      "{'weapons': ('Negative', 0.803210437297821), 'nuclear': ('Negative', 0.8583618402481079), 'existence': ('Negative', 0.9320604205131531), 'stability': ('Negative', 0.5815865397453308), 'nations': ('Negative', 0.809364378452301), 'led': ('Negative', 0.4525855481624603), 'world': ('Negative', 0.530038058757782), 'aggressive': ('Negative', 0.934426486492157), 'deterrent': ('Negative', 0.9106125235557556), 'disagree': ('Negative', 0.6024597883224487)}\n",
      "{'weapons': ('Positive', 0.5180196762084961), 'nuclear': ('Positive', 0.5173639059066772), 'existence': ('Positive', 0.5385424494743347), 'stability': ('Positive', 0.5559232831001282), 'nations': ('Positive', 0.4733624756336212), 'led': ('Positive', 0.45178312063217163), 'world': ('Positive', 0.46697014570236206), 'aggressive': ('Negative', 0.6632860898971558), 'deterrent': ('Positive', 0.6424199342727661), 'disagree': ('Positive', 0.6189905405044556)}\n",
      "{'weapons': ('Negative', 0.8240038752555847), 'nuclear': ('Negative', 0.837372362613678), 'existence': ('Negative', 0.854465663433075), 'stability': ('Negative', 0.7418731451034546), 'nations': ('Negative', 0.7069675326347351), 'led': ('Negative', 0.5771464109420776), 'world': ('Negative', 0.6080251932144165), 'aggressive': ('Negative', 0.9263150095939636), 'deterrent': ('Negative', 0.854636013507843), 'disagree': ('Negative', 0.6946502923965454)}\n",
      "{'weapons': ('Positive', 0.7545426487922668), 'nuclear': ('Positive', 0.747431218624115), 'existence': ('Positive', 0.7526560425758362), 'stability': ('Positive', 0.7427084445953369), 'nations': ('Positive', 0.6576491594314575), 'led': ('Positive', 0.7046197652816772), 'world': ('Negative', 0.6180866956710815), 'aggressive': ('Negative', 0.6002777814865112), 'deterrent': ('Positive', 0.596389651298523), 'disagree': ('Positive', 0.8409168124198914)}\n",
      "{'weapons': ('Negative', 0.8532894253730774), 'nuclear': ('Negative', 0.8629873991012573), 'existence': ('Negative', 0.8708049654960632), 'stability': ('Negative', 0.763624906539917), 'nations': ('Negative', 0.7922874689102173), 'led': ('Negative', 0.7566125988960266), 'world': ('Negative', 0.7268043756484985), 'aggressive': ('Negative', 0.837540328502655), 'deterrent': ('Negative', 0.7632468342781067), 'disagree': ('Negative', 0.7487744092941284)}\n",
      "{'weapons': ('Negative', 0.5629844665527344), 'nuclear': ('Negative', 0.6081831455230713), 'existence': ('Negative', 0.5448636412620544), 'stability': ('Negative', 0.6742681860923767), 'nations': ('Negative', 0.6554843187332153), 'led': ('Negative', 0.5946733355522156), 'world': ('Negative', 0.7301784157752991), 'aggressive': ('Negative', 0.7539244890213013), 'deterrent': ('Negative', 0.5802880525588989), 'disagree': ('Negative', 0.647883951663971)}\n",
      "{'weapons': ('Negative', 0.7757559418678284), 'nuclear': ('Negative', 0.7811731100082397), 'existence': ('Negative', 0.816658079624176), 'stability': ('Negative', 0.5505304932594299), 'nations': ('Negative', 0.6045412421226501), 'led': ('Negative', 0.5764089226722717), 'world': ('Negative', 0.48270177841186523), 'aggressive': ('Negative', 0.62080979347229), 'deterrent': ('Negative', 0.8145538568496704), 'disagree': ('Negative', 0.6935216188430786)}\n",
      "{'weapons': ('Positive', 0.5700821280479431), 'nuclear': ('Positive', 0.5327088236808777), 'existence': ('Positive', 0.5897764563560486), 'stability': ('Positive', 0.5389999151229858), 'nations': ('Positive', 0.47056156396865845), 'led': ('Positive', 0.48220202326774597), 'world': ('Positive', 0.43315714597702026), 'aggressive': ('Negative', 0.6627864241600037), 'deterrent': ('Positive', 0.6826125979423523), 'disagree': ('Positive', 0.5607741475105286)}\n",
      "{'weapons': ('Negative', 0.9111183881759644), 'nuclear': ('Negative', 0.9133889675140381), 'existence': ('Negative', 0.911072313785553), 'stability': ('Negative', 0.8525026440620422), 'nations': ('Negative', 0.8902396559715271), 'led': ('Negative', 0.8099987506866455), 'world': ('Negative', 0.8116183280944824), 'aggressive': ('Negative', 0.9338528513908386), 'deterrent': ('Negative', 0.915856659412384), 'disagree': ('Negative', 0.8020291924476624)}\n",
      "{'weapons': ('Positive', 0.7260296940803528), 'nuclear': ('Positive', 0.7234117984771729), 'existence': ('Positive', 0.6741847395896912), 'stability': ('Positive', 0.818038821220398), 'nations': ('Positive', 0.642305850982666), 'led': ('Positive', 0.6522004008293152), 'world': ('Positive', 0.6841729283332825), 'aggressive': ('Negative', 0.6038578748703003), 'deterrent': ('Positive', 0.7686905264854431), 'disagree': ('Positive', 0.7238150238990784)}\n",
      "{'weapons': ('Negative', 0.7046840190887451), 'nuclear': ('Negative', 0.735923171043396), 'existence': ('Negative', 0.8712629675865173), 'stability': ('Negative', 0.8685632348060608), 'nations': ('Negative', 0.7736597061157227), 'led': ('Negative', 0.5763955116271973), 'world': ('Negative', 0.4405539929866791), 'aggressive': ('Negative', 0.6660611629486084), 'deterrent': ('Negative', 0.7925896048545837), 'disagree': ('Negative', 0.6343376636505127)}\n",
      "{'weapons': ('Negative', 0.8485009670257568), 'nuclear': ('Negative', 0.8640369176864624), 'existence': ('Negative', 0.8835644125938416), 'stability': ('Negative', 0.9155029654502869), 'nations': ('Negative', 0.8461528420448303), 'led': ('Negative', 0.8232333660125732), 'world': ('Negative', 0.8078140616416931), 'aggressive': ('Negative', 0.79997718334198), 'deterrent': ('Negative', 0.8681138753890991), 'disagree': ('Negative', 0.800119161605835)}\n",
      "{'weapons': ('Negative', 0.8916056752204895), 'nuclear': ('Negative', 0.8900957703590393), 'existence': ('Negative', 0.8904396891593933), 'stability': ('Negative', 0.8883790373802185), 'nations': ('Negative', 0.8906340003013611), 'led': ('Negative', 0.8927769660949707), 'world': ('Negative', 0.8851606249809265), 'aggressive': ('Negative', 0.9029834866523743), 'deterrent': ('Negative', 0.8926877379417419), 'disagree': ('Negative', 0.8931591510772705)}\n",
      "{'weapons': ('Positive', 0.8416113257408142), 'nuclear': ('Positive', 0.861440122127533), 'existence': ('Positive', 0.8561163544654846), 'stability': ('Positive', 0.8999788165092468), 'nations': ('Positive', 0.8249499797821045), 'led': ('Positive', 0.807235598564148), 'world': ('Positive', 0.8024619817733765), 'aggressive': ('Negative', 0.8223137259483337), 'deterrent': ('Positive', 0.8848375678062439), 'disagree': ('Positive', 0.8756501078605652)}\n",
      "{'weapons': ('Negative', 0.754754364490509), 'nuclear': ('Negative', 0.7840912342071533), 'existence': ('Negative', 0.8295114040374756), 'stability': ('Negative', 0.8068228960037231), 'nations': ('Negative', 0.8790838718414307), 'led': ('Negative', 0.8303797245025635), 'world': ('Negative', 0.7980846762657166), 'aggressive': ('Negative', 0.905124306678772), 'deterrent': ('Negative', 0.7930434346199036), 'disagree': ('Negative', 0.8390726447105408)}\n",
      "{'weapons': ('Negative', 0.47549065947532654), 'nuclear': ('Negative', 0.47697940468788147), 'existence': ('Negative', 0.49062252044677734), 'stability': ('Negative', 0.4814167618751526), 'nations': ('Negative', 0.5444670915603638), 'led': ('Negative', 0.5192101001739502), 'world': ('Negative', 0.443900465965271), 'aggressive': ('Negative', 0.818347156047821), 'deterrent': ('Negative', 0.48281070590019226), 'disagree': ('Negative', 0.6436134576797485)}\n",
      "{'weapons': ('Negative', 0.748582124710083), 'nuclear': ('Negative', 0.7672363519668579), 'existence': ('Negative', 0.8503894209861755), 'stability': ('Negative', 0.6320553421974182), 'nations': ('Negative', 0.8677316904067993), 'led': ('Negative', 0.7463441491127014), 'world': ('Negative', 0.7283127903938293), 'aggressive': ('Negative', 0.7774156332015991), 'deterrent': ('Negative', 0.7135075330734253), 'disagree': ('Negative', 0.8341419696807861)}\n",
      "{'weapons': ('Positive', 0.608064591884613), 'nuclear': ('Positive', 0.5963324904441833), 'existence': ('Positive', 0.593712329864502), 'stability': ('Positive', 0.692797839641571), 'nations': ('Negative', 0.5359225869178772), 'led': ('Positive', 0.5429986119270325), 'world': ('Positive', 0.5565922856330872), 'aggressive': ('Negative', 0.6575319170951843), 'deterrent': ('Positive', 0.5915838479995728), 'disagree': ('Negative', 0.4608254134654999)}\n",
      "{'weapons': ('Negative', 0.8824427127838135), 'nuclear': ('Negative', 0.8917612433433533), 'existence': ('Negative', 0.9211686849594116), 'stability': ('Negative', 0.8704255819320679), 'nations': ('Negative', 0.8704972863197327), 'led': ('Negative', 0.8060470223426819), 'world': ('Negative', 0.8254409432411194), 'aggressive': ('Negative', 0.8386648297309875), 'deterrent': ('Negative', 0.8425977230072021), 'disagree': ('Negative', 0.8420509696006775)}\n",
      "{'weapons': ('Positive', 0.6955186128616333), 'nuclear': ('Positive', 0.698419988155365), 'existence': ('Positive', 0.6866271495819092), 'stability': ('Positive', 0.7602866291999817), 'nations': ('Positive', 0.5680140256881714), 'led': ('Positive', 0.647579550743103), 'world': ('Positive', 0.6551460027694702), 'aggressive': ('Negative', 0.5633398294448853), 'deterrent': ('Positive', 0.773578941822052), 'disagree': ('Positive', 0.6426132917404175)}\n",
      "{'weapons': ('Negative', 0.8683250546455383), 'nuclear': ('Negative', 0.8909183144569397), 'existence': ('Negative', 0.9173677563667297), 'stability': ('Negative', 0.8194388151168823), 'nations': ('Negative', 0.8857090473175049), 'led': ('Negative', 0.8265270590782166), 'world': ('Negative', 0.7671266198158264), 'aggressive': ('Negative', 0.8276305794715881), 'deterrent': ('Negative', 0.8161693215370178), 'disagree': ('Negative', 0.7721757292747498)}\n",
      "{'weapons': ('Negative', 0.5787343382835388), 'nuclear': ('Negative', 0.6004384756088257), 'existence': ('Negative', 0.470864862203598), 'stability': ('Negative', 0.6031502485275269), 'nations': ('Negative', 0.680850088596344), 'led': ('Negative', 0.6575525403022766), 'world': ('Negative', 0.6678219437599182), 'aggressive': ('Negative', 0.8851962089538574), 'deterrent': ('Negative', 0.55180823802948), 'disagree': ('Negative', 0.6652625799179077)}\n",
      "{'weapons': ('Negative', 0.7181612849235535), 'nuclear': ('Negative', 0.7054823040962219), 'existence': ('Negative', 0.8722128868103027), 'stability': ('Negative', 0.581251859664917), 'nations': ('Negative', 0.7190002799034119), 'led': ('Negative', 0.6320130825042725), 'world': ('Negative', 0.6017720103263855), 'aggressive': ('Negative', 0.7244166731834412), 'deterrent': ('Negative', 0.6782333850860596), 'disagree': ('Negative', 0.7231783866882324)}\n",
      "{'nuclear': ('Positive', 0.4436182975769043), 'weapons': ('Negative', 0.43480372428894043), 'security': ('Negative', 0.45770666003227234), 'global': ('Negative', 0.5101647973060608), 'nations': ('Negative', 0.505059003829956), 'world': ('Positive', 0.4655333161354065), 'deterrent': ('Positive', 0.653998851776123), 'necessary': ('Negative', 0.45367559790611267), 'threat': ('Negative', 0.6724779009819031), 'disagree': ('Negative', 0.4697529077529907)}\n",
      "{'weapons': ('Negative', 0.9095205664634705), 'nuclear': ('Negative', 0.9124001860618591), 'existence': ('Negative', 0.9167205095291138), 'stability': ('Negative', 0.7545977234840393), 'nations': ('Negative', 0.846702516078949), 'led': ('Negative', 0.8176532983779907), 'world': ('Negative', 0.7941235899925232), 'aggressive': ('Negative', 0.7813025712966919), 'deterrent': ('Negative', 0.8771055936813354), 'disagree': ('Negative', 0.8478215932846069)}\n",
      "{'weapons': ('Positive', 0.550711452960968), 'nuclear': ('Positive', 0.5397433042526245), 'existence': ('Positive', 0.5415757894515991), 'stability': ('Positive', 0.5064855217933655), 'nations': ('Positive', 0.4505106806755066), 'led': ('Positive', 0.49740949273109436), 'world': ('Positive', 0.4963873624801636), 'aggressive': ('Negative', 0.5705634951591492), 'deterrent': ('Positive', 0.6618585586547852), 'disagree': ('Positive', 0.6268513202667236)}\n",
      "{'weapons': ('Negative', 0.6899383068084717), 'nuclear': ('Negative', 0.7181290984153748), 'existence': ('Negative', 0.7627344727516174), 'stability': ('Negative', 0.5952847599983215), 'nations': ('Negative', 0.740447998046875), 'led': ('Negative', 0.5242418050765991), 'world': ('Negative', 0.4870748221874237), 'aggressive': ('Negative', 0.546448826789856), 'deterrent': ('Negative', 0.8107572197914124), 'disagree': ('Negative', 0.5683822631835938)}\n",
      "{'weapons': ('Negative', 0.7695851922035217), 'nuclear': ('Negative', 0.7842334508895874), 'existence': ('Negative', 0.7900251746177673), 'stability': ('Negative', 0.7895527482032776), 'nations': ('Negative', 0.8288964033126831), 'led': ('Negative', 0.8327157497406006), 'world': ('Negative', 0.8241705894470215), 'aggressive': ('Negative', 0.8726077079772949), 'deterrent': ('Negative', 0.7989012002944946), 'disagree': ('Negative', 0.8872416615486145)}\n"
     ]
    }
   ],
   "source": [
    "for i in range (len(text_data)):\n",
    "    get_aspect_scores(text_data[\"Document\"][i],text_data[\"Representation\"][i])"
   ]
  },
  {
   "cell_type": "code",
   "execution_count": null,
   "metadata": {},
   "outputs": [],
   "source": []
  }
 ],
 "metadata": {
  "kernelspec": {
   "display_name": "Python 3",
   "language": "python",
   "name": "python3"
  },
  "language_info": {
   "codemirror_mode": {
    "name": "ipython",
    "version": 3
   },
   "file_extension": ".py",
   "mimetype": "text/x-python",
   "name": "python",
   "nbconvert_exporter": "python",
   "pygments_lexer": "ipython3",
   "version": "3.11.5"
  }
 },
 "nbformat": 4,
 "nbformat_minor": 2
}
